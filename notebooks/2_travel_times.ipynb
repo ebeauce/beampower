{
 "cells": [
  {
   "cell_type": "markdown",
   "metadata": {},
   "source": [
    "# 2. Compute travel times\n",
    "\n",
    "This notebook computes the travel times from all the points of a three-dimensional grid to each seismic station. These travel times are necessary for time-shifting the seismic traces when evaluating the beamformed network response at every location of the grid.\n",
    "\n",
    "This tutorial utilizes the `pykonal` package to compute travel times given a velocity model. The package documentation and installation procedure are described in the [pykonal package documentation](https://github.com/malcolmw/pykonal). Please acknowledge [White et al. (2020)](https://pubs.geoscienceworld.org/ssa/srl/article-abstract/91/4/2378/586804/PyKonal-A-Python-Package-for-Solving-the-Eikonal?redirectedFrom=fulltext) if using `pykonal`.\n",
    "\n",
    "> **Note:** although `pykonal` handles computing the travel times in a three-dimensional velocity model, the example below uses a one-dimensional velocity model.\n",
    "\n",
    "## Contents\n",
    "\n",
    "* [Read velocity model](#read-velocity-model)\n",
    "\n",
    "* [Interpolate velocity model at depth](#interpolate-velocity-model-at-depth)\n",
    "* [Expand model laterally](#expand-model-laterally)\n",
    "* [Get station coordinates](#station-coordinates)\n",
    "* [Show model and stations](#show-model-and-stations)\n",
    "* [Compute travel times](#compute-travel-times)\n",
    "* [Save travel times](#save-travel-times)\n",
    "* [Show travel times at a given station](#show-travel-times-at-a-given-station)"
   ]
  },
  {
   "cell_type": "code",
   "execution_count": 1,
   "metadata": {},
   "outputs": [],
   "source": [
    "import numpy as np\n",
    "import os\n",
    "import pandas as pd\n",
    "import tqdm\n",
    "import xarray as xr\n",
    "\n",
    "from matplotlib import pyplot as plt\n",
    "\n",
    "from obspy import read, read_inventory\n",
    "from pykonal.solver import PointSourceSolver\n",
    "from pykonal.transformations import geo2sph"
   ]
  },
  {
   "cell_type": "markdown",
   "metadata": {},
   "source": [
    "## Read velocity model\n",
    "\n",
    "We wrote the velocity model of [Karabulut et al. (2011)](https://www.sciencedirect.com/science/article/pii/S0040195111002903?casa_token=wTzEUe0IdicAAAAA:fYbKmGkHHrQfyLicd0lO4Ai451jT6h_yTF6ZZXrvglpw9rXDTVVzWzIWNQ0aFAFbMJ_pU6I) in a csv file that we read with `pandas`. The model is given in meters for the depth and in m/s for the speed values. Everything is converted to km for compatibility with `pykonal`. "
   ]
  },
  {
   "cell_type": "code",
   "execution_count": 2,
   "metadata": {},
   "outputs": [],
   "source": [
    "FILEPATH_VELOCITY = \"../data/velocity_model_Karabulut2011.csv\""
   ]
  },
  {
   "cell_type": "code",
   "execution_count": 3,
   "metadata": {},
   "outputs": [
    {
     "data": {
      "text/html": [
       "<div>\n",
       "<style scoped>\n",
       "    .dataframe tbody tr th:only-of-type {\n",
       "        vertical-align: middle;\n",
       "    }\n",
       "\n",
       "    .dataframe tbody tr th {\n",
       "        vertical-align: top;\n",
       "    }\n",
       "\n",
       "    .dataframe thead th {\n",
       "        text-align: right;\n",
       "    }\n",
       "</style>\n",
       "<table border=\"1\" class=\"dataframe\">\n",
       "  <thead>\n",
       "    <tr style=\"text-align: right;\">\n",
       "      <th>depth</th>\n",
       "      <th>-2.0</th>\n",
       "      <th>0.0</th>\n",
       "      <th>1.0</th>\n",
       "      <th>2.0</th>\n",
       "      <th>3.0</th>\n",
       "      <th>4.0</th>\n",
       "      <th>5.0</th>\n",
       "      <th>6.0</th>\n",
       "      <th>8.0</th>\n",
       "      <th>10.0</th>\n",
       "      <th>12.0</th>\n",
       "      <th>14.0</th>\n",
       "      <th>15.0</th>\n",
       "      <th>20.0</th>\n",
       "      <th>22.0</th>\n",
       "      <th>25.0</th>\n",
       "      <th>32.0</th>\n",
       "      <th>77.0</th>\n",
       "    </tr>\n",
       "  </thead>\n",
       "  <tbody>\n",
       "    <tr>\n",
       "      <th>P</th>\n",
       "      <td>2.90</td>\n",
       "      <td>3.0</td>\n",
       "      <td>5.60</td>\n",
       "      <td>5.70</td>\n",
       "      <td>5.80</td>\n",
       "      <td>5.90</td>\n",
       "      <td>5.95</td>\n",
       "      <td>6.05</td>\n",
       "      <td>6.10</td>\n",
       "      <td>6.15</td>\n",
       "      <td>6.20</td>\n",
       "      <td>6.25</td>\n",
       "      <td>6.30</td>\n",
       "      <td>6.40</td>\n",
       "      <td>6.50</td>\n",
       "      <td>6.70</td>\n",
       "      <td>8.00</td>\n",
       "      <td>8.045</td>\n",
       "    </tr>\n",
       "    <tr>\n",
       "      <th>S</th>\n",
       "      <td>1.67</td>\n",
       "      <td>1.9</td>\n",
       "      <td>3.15</td>\n",
       "      <td>3.21</td>\n",
       "      <td>3.26</td>\n",
       "      <td>3.41</td>\n",
       "      <td>3.42</td>\n",
       "      <td>3.44</td>\n",
       "      <td>3.48</td>\n",
       "      <td>3.56</td>\n",
       "      <td>3.59</td>\n",
       "      <td>3.61</td>\n",
       "      <td>3.63</td>\n",
       "      <td>3.66</td>\n",
       "      <td>3.78</td>\n",
       "      <td>3.85</td>\n",
       "      <td>4.65</td>\n",
       "      <td>4.650</td>\n",
       "    </tr>\n",
       "  </tbody>\n",
       "</table>\n",
       "</div>"
      ],
      "text/plain": [
       "depth  -2.0    0.0    1.0    2.0    3.0    4.0    5.0    6.0    8.0    10.0  \\\n",
       "P       2.90    3.0   5.60   5.70   5.80   5.90   5.95   6.05   6.10   6.15   \n",
       "S       1.67    1.9   3.15   3.21   3.26   3.41   3.42   3.44   3.48   3.56   \n",
       "\n",
       "depth   12.0   14.0   15.0   20.0   22.0   25.0   32.0   77.0  \n",
       "P       6.20   6.25   6.30   6.40   6.50   6.70   8.00  8.045  \n",
       "S       3.59   3.61   3.63   3.66   3.78   3.85   4.65  4.650  "
      ]
     },
     "execution_count": 3,
     "metadata": {},
     "output_type": "execute_result"
    }
   ],
   "source": [
    "# Read velocity model\n",
    "velocity_layers = pd.read_csv(\n",
    "    FILEPATH_VELOCITY, \n",
    "    usecols=[1, 2, 4],\n",
    "    names=[\"depth\", \"P\", \"S\"],\n",
    "    skiprows=1,\n",
    "    index_col=\"depth\",\n",
    "    )\n",
    "\n",
    "# Convert meters to kilometers\n",
    "velocity_layers *= 1e-3\n",
    "velocity_layers.index *= 1e-3\n",
    "\n",
    "# Show table\n",
    "velocity_layers.T"
   ]
  },
  {
   "cell_type": "code",
   "execution_count": 4,
   "metadata": {},
   "outputs": [
    {
     "data": {
      "image/png": "[encoded data removed]",
      "text/plain": [
       "<Figure size 432x288 with 1 Axes>"
      ]
     },
     "metadata": {
      "needs_background": "light"
     },
     "output_type": "display_data"
    }
   ],
   "source": [
    "ax = velocity_layers.plot(\n",
    "    drawstyle=\"steps-post\",\n",
    "    ylabel=\"Wave Velocity (km/s)\",\n",
    "    xlabel=\"Depth (km)\",\n",
    "    title=\"1D velocity model from Karabulut et al. 2011\",\n",
    "    grid=True,\n",
    ")"
   ]
  },
  {
   "cell_type": "markdown",
   "metadata": {},
   "source": [
    "## Interpolate velocity model at depth\n",
    "\n",
    "We compute the travel times on a finer grid than the model grid, so we need to interpolate the model. We define 30 depths between 30 km and -2 km."
   ]
  },
  {
   "cell_type": "code",
   "execution_count": 5,
   "metadata": {},
   "outputs": [],
   "source": [
    "depths = np.linspace(30.0, -2.0, 30)"
   ]
  },
  {
   "cell_type": "markdown",
   "metadata": {},
   "source": [
    "Then we interpolate the velocity at the given depths using `pandas.DataFrame` method `reindex`."
   ]
  },
  {
   "cell_type": "code",
   "execution_count": 6,
   "metadata": {},
   "outputs": [],
   "source": [
    "velocity_layers_interp = velocity_layers.reindex(depths, method=\"ffill\")"
   ]
  },
  {
   "cell_type": "markdown",
   "metadata": {},
   "source": [
    "We can then compare the natural (layered) and interpolated models as a function of depth"
   ]
  },
  {
   "cell_type": "code",
   "execution_count": 7,
   "metadata": {},
   "outputs": [
    {
     "data": {
      "image/png": "[encoded data removed]",
      "text/plain": [
       "<Figure size 1080x864 with 1 Axes>"
      ]
     },
     "metadata": {
      "needs_background": "light"
     },
     "output_type": "display_data"
    }
   ],
   "source": [
    "velocity_layers.plot(drawstyle=\"steps-post\")\n",
    "velocity_layers_interp.sort_values(\"depth\").plot(\n",
    "    drawstyle=\"steps-post\",\n",
    "    xlabel=\"Depth (km)\",\n",
    "    ylabel=\"Speed (km/s)\",\n",
    "    title=\"1D velocity model from Karabulut et al. 2011\",\n",
    "    ax=plt.gca(),\n",
    "    grid=True,\n",
    "    figsize=(15, 12),\n",
    "    marker=\"s\",\n",
    "    ls=\"\"\n",
    ")\n",
    "\n",
    "# Labels and legends\n",
    "plt.axvspan(depths.min(), depths.max(), alpha=0.2)\n",
    "plt.legend([\"P\", \"S\", \"P interpolated\", \"S interpolated\", \"Domain\"])\n",
    "plt.show()"
   ]
  },
  {
   "cell_type": "markdown",
   "metadata": {},
   "source": [
    "## Expand model laterally\n",
    "\n",
    "Because `pykonal` uses three-dimensional coordinate systems, we need to cast the one-dimensional velocity model onto a three-dimensional grid. The following define the grid in the longitude and latitude dimensions."
   ]
  },
  {
   "cell_type": "code",
   "execution_count": 8,
   "metadata": {},
   "outputs": [],
   "source": [
    "longitudes = np.linspace(30.20, 30.45, 40)\n",
    "# sample latitudes in decreasing order to get corresponding colatitudes in increasing order (see explanation further)\n",
    "latitudes = np.linspace(40.76, 40.60, 35)"
   ]
  },
  {
   "cell_type": "markdown",
   "metadata": {},
   "source": [
    "We then expand the velocity vector in the longitude and latitude dimensions with `xarray`. This operation is automatically done with the `expand_dim()` method."
   ]
  },
  {
   "cell_type": "code",
   "execution_count": 9,
   "metadata": {},
   "outputs": [],
   "source": [
    "# Xarray\n",
    "velocities = velocity_layers_interp.stack().to_xarray()\n",
    "velocities = velocities.rename({\"level_1\": \"phase\"})\n",
    "\n",
    "# Add longitudes and latitude dimensions (automatically broadcast vector into 3D array)\n",
    "velocities = velocities.expand_dims(latitude=latitudes, longitude=longitudes)"
   ]
  },
  {
   "cell_type": "markdown",
   "metadata": {},
   "source": [
    "## Station coordinates\n",
    "\n",
    "We extract the station coordinates from the XML files."
   ]
  },
  {
   "cell_type": "code",
   "execution_count": 10,
   "metadata": {},
   "outputs": [
    {
     "data": {
      "text/html": [
       "<div>\n",
       "<style scoped>\n",
       "    .dataframe tbody tr th:only-of-type {\n",
       "        vertical-align: middle;\n",
       "    }\n",
       "\n",
       "    .dataframe tbody tr th {\n",
       "        vertical-align: top;\n",
       "    }\n",
       "\n",
       "    .dataframe thead th {\n",
       "        text-align: right;\n",
       "    }\n",
       "</style>\n",
       "<table border=\"1\" class=\"dataframe\">\n",
       "  <thead>\n",
       "    <tr style=\"text-align: right;\">\n",
       "      <th></th>\n",
       "      <th>longitude</th>\n",
       "      <th>latitude</th>\n",
       "      <th>elevation</th>\n",
       "      <th>depth</th>\n",
       "    </tr>\n",
       "    <tr>\n",
       "      <th>code</th>\n",
       "      <th></th>\n",
       "      <th></th>\n",
       "      <th></th>\n",
       "      <th></th>\n",
       "    </tr>\n",
       "  </thead>\n",
       "  <tbody>\n",
       "    <tr>\n",
       "      <th>DC06</th>\n",
       "      <td>30.265751</td>\n",
       "      <td>40.616718</td>\n",
       "      <td>555.0</td>\n",
       "      <td>-0.555</td>\n",
       "    </tr>\n",
       "    <tr>\n",
       "      <th>DC07</th>\n",
       "      <td>30.242170</td>\n",
       "      <td>40.667080</td>\n",
       "      <td>164.0</td>\n",
       "      <td>-0.164</td>\n",
       "    </tr>\n",
       "    <tr>\n",
       "      <th>DC08</th>\n",
       "      <td>30.250130</td>\n",
       "      <td>40.744438</td>\n",
       "      <td>162.0</td>\n",
       "      <td>-0.162</td>\n",
       "    </tr>\n",
       "    <tr>\n",
       "      <th>DD06</th>\n",
       "      <td>30.317770</td>\n",
       "      <td>40.623539</td>\n",
       "      <td>182.0</td>\n",
       "      <td>-0.182</td>\n",
       "    </tr>\n",
       "    <tr>\n",
       "      <th>DE07</th>\n",
       "      <td>30.411539</td>\n",
       "      <td>40.679661</td>\n",
       "      <td>40.0</td>\n",
       "      <td>-0.040</td>\n",
       "    </tr>\n",
       "    <tr>\n",
       "      <th>DE08</th>\n",
       "      <td>30.406469</td>\n",
       "      <td>40.748562</td>\n",
       "      <td>31.0</td>\n",
       "      <td>-0.031</td>\n",
       "    </tr>\n",
       "    <tr>\n",
       "      <th>SAUV</th>\n",
       "      <td>30.327200</td>\n",
       "      <td>40.740200</td>\n",
       "      <td>170.0</td>\n",
       "      <td>-0.170</td>\n",
       "    </tr>\n",
       "    <tr>\n",
       "      <th>SPNC</th>\n",
       "      <td>30.308300</td>\n",
       "      <td>40.686001</td>\n",
       "      <td>190.0</td>\n",
       "      <td>-0.190</td>\n",
       "    </tr>\n",
       "  </tbody>\n",
       "</table>\n",
       "</div>"
      ],
      "text/plain": [
       "      longitude   latitude  elevation  depth\n",
       "code                                        \n",
       "DC06  30.265751  40.616718      555.0 -0.555\n",
       "DC07  30.242170  40.667080      164.0 -0.164\n",
       "DC08  30.250130  40.744438      162.0 -0.162\n",
       "DD06  30.317770  40.623539      182.0 -0.182\n",
       "DE07  30.411539  40.679661       40.0 -0.040\n",
       "DE08  30.406469  40.748562       31.0 -0.031\n",
       "SAUV  30.327200  40.740200      170.0 -0.170\n",
       "SPNC  30.308300  40.686001      190.0 -0.190"
      ]
     },
     "execution_count": 10,
     "metadata": {},
     "output_type": "execute_result"
    }
   ],
   "source": [
    "# Get inventories\n",
    "inventory = read_inventory(\"../data/processed/*xml\")\n",
    "\n",
    "# Extract stations\n",
    "stations = [sta for net in inventory for sta in net]\n",
    "attrs = \"longitude\", \"latitude\", \"elevation\", \"code\"\n",
    "stations = [{item: getattr(sta, item) for item in attrs} for sta in stations]\n",
    "\n",
    "# Turn into dataframe\n",
    "network = pd.DataFrame(stations).set_index(\"code\")\n",
    "network[\"depth\"] = -1e-3 * network.elevation \n",
    "\n",
    "# Show\n",
    "network\n"
   ]
  },
  {
   "cell_type": "markdown",
   "metadata": {},
   "source": [
    "## Show model and stations\n",
    "\n",
    "This cell selects a slice of the velocity model with the `DataArray.sel()` and plots it."
   ]
  },
  {
   "cell_type": "code",
   "execution_count": 11,
   "metadata": {},
   "outputs": [
    {
     "data": {
      "image/png": "[encoded data removed]",
      "text/plain": [
       "<Figure size 1080x864 with 2 Axes>"
      ]
     },
     "metadata": {
      "needs_background": "light"
     },
     "output_type": "display_data"
    }
   ],
   "source": [
    "# Select slice at first latitude index\n",
    "velocities_slice = velocities.sel(phase=\"S\", latitude=latitudes.min())\n",
    "\n",
    "# Show velocities\n",
    "img = velocities_slice.T.plot.imshow(cmap=\"RdBu\", add_colorbar=False, figsize=(15, 12))\n",
    "cb = plt.colorbar(img)\n",
    "\n",
    "# Show stations\n",
    "plt.plot(network.longitude, network.depth, \"wv\")\n",
    "\n",
    "# Labels\n",
    "ax = plt.gca()\n",
    "ax.set_xlabel(\"Longitude (degrees)\")\n",
    "ax.set_ylabel(\"Depth (km)\")\n",
    "ax.set_title(\"Velocity model slice from 3D grid\")\n",
    "cb.set_label(f\"{velocities_slice.phase.data} velocity (km/s)\")\n",
    "ax.invert_yaxis()\n"
   ]
  },
  {
   "cell_type": "markdown",
   "metadata": {},
   "source": [
    "## Compute travel times\n",
    "\n",
    "The travel times are computed for every station with the Eikonal solver of `pykonal`. The travel times are then saved into a `h5` file for later use. \n",
    "\n",
    "**Warning**: For `pykonal`, we need to give the velocity grid in spherical coordinates $(r, \\theta, \\varphi)$, which is why we built the grid with decreasing depths and latitudes.\n",
    "\n",
    "Spherical coordinates:\n",
    "- $r$: Distance from center or Earth in km (= decreasing depth).\n",
    "- $\\theta$: Polar angle in radians (= co-latitude or, equivalently, decreasing latitude).\n",
    "- $\\varphi$: Azimuthal angle in radians (= longitude)."
   ]
  },
  {
   "cell_type": "code",
   "execution_count": 19,
   "metadata": {},
   "outputs": [
    {
     "name": "stderr",
     "output_type": "stream",
     "text": [
      "Travel times P: 100%|██████████| 8/8 [00:04<00:00,  1.88it/s]\n",
      "Travel times S: 100%|██████████| 8/8 [00:04<00:00,  1.83it/s]\n"
     ]
    }
   ],
   "source": [
    "STATION_ENTRIES = [\"latitude\", \"longitude\", \"depth\"]\n",
    "\n",
    "# Initialize travel times\n",
    "velocities_solver = velocities.transpose(\"phase\", \"depth\", \"latitude\", \"longitude\")\n",
    "travel_times = velocities_solver.copy()\n",
    "travel_times = travel_times.expand_dims(station=network.index.values).copy()\n",
    "\n",
    "# Reference point\n",
    "reference_point = geo2sph((latitudes.max(), longitudes.min(), depths.max()))\n",
    "node_intervals = (\n",
    "    np.abs(depths[1] - depths[0]),\n",
    "    np.deg2rad(np.abs(latitudes[1] - latitudes[0])),\n",
    "    np.deg2rad(longitudes[1] - longitudes[0]),\n",
    ")\n",
    "\n",
    "# Loop over stations and phases\n",
    "for phase in travel_times.phase.data:\n",
    "    for station in tqdm.tqdm(network.index, desc=f\"Travel times {phase}\"):\n",
    "\n",
    "        # Initialize Eikonal solver\n",
    "        solver = PointSourceSolver(coord_sys=\"spherical\")\n",
    "        solver.velocity.min_coords = reference_point\n",
    "        solver.velocity.node_intervals = node_intervals\n",
    "        velocity = velocities_solver.sel(phase=phase).to_numpy()\n",
    "        solver.velocity.npts = velocity.shape\n",
    "        solver.velocity.values = velocity.copy()\n",
    "        \n",
    "        # Source\n",
    "        src_loc = network.loc[station][STATION_ENTRIES].values\n",
    "        solver.src_loc = np.array(geo2sph(src_loc).squeeze())\n",
    "\n",
    "        # Solve Eikonal equation\n",
    "        solver.solve()\n",
    "\n",
    "        # Assign to dataarray\n",
    "        locator = dict(station=station, phase=phase)\n",
    "        tt = solver.tt.values\n",
    "        tt[np.isinf(tt)] = 0\n",
    "        travel_times.loc[locator] = tt"
   ]
  },
  {
   "cell_type": "markdown",
   "metadata": {},
   "source": [
    "## Save travel times\n",
    "\n",
    "Save the travel times as a NetCDF file. Different formats can be used. This one allows loading the travel times `Dataaarray` quickly without losing the attributes on the way. "
   ]
  },
  {
   "cell_type": "code",
   "execution_count": 21,
   "metadata": {},
   "outputs": [],
   "source": [
    "travel_times.to_netcdf(\"../data/travel_times.nc\")"
   ]
  },
  {
   "cell_type": "markdown",
   "metadata": {},
   "source": [
    "## Show travel times at a given station"
   ]
  },
  {
   "cell_type": "code",
   "execution_count": 20,
   "metadata": {},
   "outputs": [
    {
     "data": {
      "image/png": "[encoded data removed]",
      "text/plain": [
       "<Figure size 1080x864 with 2 Axes>"
      ]
     },
     "metadata": {
      "needs_background": "light"
     },
     "output_type": "display_data"
    }
   ],
   "source": [
    "CONTOUR_LEVELS = 20\n",
    "SEISMIC_PHASE = \"S\"\n",
    "station = network.loc[\"DC06\"]\n",
    "\n",
    "# Show\n",
    "latitude_id = np.abs(travel_times.latitude - station.latitude).argmin()\n",
    "time_delays = travel_times.sel(phase=SEISMIC_PHASE, station=station.name)\n",
    "time_delays = time_delays.isel(latitude=latitude_id)\n",
    "img = time_delays.plot.contourf(\n",
    "    add_colorbar=False, cmap=\"RdPu\", levels=CONTOUR_LEVELS, figsize=(15, 12)\n",
    ")\n",
    "\n",
    "# Colorbar\n",
    "cb = plt.colorbar(img)\n",
    "cb.set_label(f\"Travel times {SEISMIC_PHASE} (seconds)\")\n",
    "\n",
    "# Station\n",
    "plt.plot(station.longitude, station.depth, \"k.\")\n",
    "\n",
    "# Labels\n",
    "ax = plt.gca()\n",
    "ax.invert_yaxis()\n",
    "ax.set_xlabel(\"Longitude (degrees)\")\n",
    "ax.set_ylabel(\"Depth (km)\")\n",
    "ax.set_title(f\"Travel times from the seismic station {station.name}\")\n",
    "plt.show()\n"
   ]
  }
 ],
 "metadata": {
  "kernelspec": {
   "display_name": "Python 3.10.5 ('py310')",
   "language": "python",
   "name": "python3"
  },
  "language_info": {
   "codemirror_mode": {
    "name": "ipython",
    "version": 3
   },
   "file_extension": ".py",
   "mimetype": "text/x-python",
   "name": "python",
   "nbconvert_exporter": "python",
   "pygments_lexer": "ipython3",
   "version": "3.10.5"
  },
  "orig_nbformat": 4,
  "vscode": {
   "interpreter": {
    "hash": "312801dd0aa5461639464a6df6a6c417c90a144a1d808d7cfd3dc2851df10201"
   }
  }
 },
 "nbformat": 4,
 "nbformat_minor": 2
}
