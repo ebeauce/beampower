{
 "cells": [
  {
   "cell_type": "markdown",
   "metadata": {},
   "source": [
    "# Download toy seismic dataset \n",
    "\n",
    "This first notebook downloads a small toy dataset to test the package and show the main steps toward a simple earthquake detection and location. The dataset consists of one day of data from eight broadband seismic stations with three components. The seismic stations are located in the North Anatolian fault zone. \n",
    "\n",
    "**Note** : this notebook uses the `mass_downloader` of `obspy` to find and download the data from the IRIS data center. The download duration can change depending on your location, do not hesitate to consider another dataset that would suit you better. A more extensive tutorial about the mass downloader [is available in obspy's documentation](https://docs.obspy.org/packages/autogen/obspy.clients.fdsn.mass_downloader.html)."
   ]
  },
  {
   "cell_type": "code",
   "execution_count": 2,
   "metadata": {},
   "outputs": [],
   "source": [
    "import obspy\n",
    "import os\n",
    "\n",
    "from obspy.clients.fdsn import mass_downloader"
   ]
  },
  {
   "cell_type": "markdown",
   "metadata": {},
   "source": [
    "## Download destination path\n",
    "\n",
    "By default, the package comes with a `data/` folder which can be used to store the downloaded waveforms. The waveforms downloaded there should not be pushed to a new branch if you want to contribute. We indicated the `.mseed` format in the `.gitignore` file; if you download any other data format, please update `.gitignore` accordingly. Feel free to change it to any convenient path of your choice. "
   ]
  },
  {
   "cell_type": "code",
   "execution_count": 10,
   "metadata": {},
   "outputs": [],
   "source": [
    "DIRPATH_DESTINATION = \"../data/\""
   ]
  },
  {
   "cell_type": "code",
   "execution_count": 11,
   "metadata": {},
   "outputs": [],
   "source": [
    "os.makedirs(DIRPATH_DESTINATION, exist_ok=True)"
   ]
  },
  {
   "cell_type": "markdown",
   "metadata": {},
   "source": [
    "## Prepare the downloader\n",
    "\n",
    "We here define the geographical domain and other restrictions such as data quality and temporal coverage for downwload. We restrict the download to the North Anatolian domain thanks to the `RectangularDomain` function, and we select the data from the eight seismic stations on either channels `HH` or `BH` with available continuous data over one day (2012/07/26) within the `Restrictions` function."
   ]
  },
  {
   "cell_type": "code",
   "execution_count": 14,
   "metadata": {},
   "outputs": [
    {
     "name": "stderr",
     "output_type": "stream",
     "text": [
      "[2022-08-04 08:01:20,575] - obspy.clients.fdsn.mass_downloader - INFO: Initializing FDSN client(s) for IRIS.\n",
      "[2022-08-04 08:01:20,575] - obspy.clients.fdsn.mass_downloader - INFO: Initializing FDSN client(s) for IRIS.\n",
      "[2022-08-04 08:01:20,584] - obspy.clients.fdsn.mass_downloader - INFO: Successfully initialized 1 client(s): IRIS.\n",
      "[2022-08-04 08:01:20,584] - obspy.clients.fdsn.mass_downloader - INFO: Successfully initialized 1 client(s): IRIS.\n"
     ]
    }
   ],
   "source": [
    "# Geographical restrictions\n",
    "domain = mass_downloader.RectangularDomain(\n",
    "    minlatitude=40.60,\n",
    "    maxlatitude=40.76,\n",
    "    minlongitude=30.20,\n",
    "    maxlongitude=30.44,\n",
    ")\n",
    "\n",
    "# Time and station restrictions\n",
    "restrictions = mass_downloader.Restrictions(\n",
    "    starttime=obspy.UTCDateTime(\"2012-07-26\"),\n",
    "    endtime=obspy.UTCDateTime(\"2012-07-27\"),\n",
    "    chunklength_in_sec=86400.0,\n",
    "    network=\"YH\",\n",
    "    location=\"*\",\n",
    "    channel=\"BH*,HH*\",\n",
    "    station=\"SAUV,SPNC,DC08,DC07,DC06,DD06,DE07,DE08\",\n",
    "    reject_channels_with_gaps=False,\n",
    "    minimum_length=0.0,\n",
    "    minimum_interstation_distance_in_m=100.0,\n",
    "    channel_priorities=[\"HH[ZNE]\", \"BH[ZNE]\"],\n",
    ")\n",
    "\n",
    "# Downloader instance\n",
    "downloader = mass_downloader.MassDownloader(providers=[\"IRIS\"])"
   ]
  },
  {
   "cell_type": "markdown",
   "metadata": {},
   "source": [
    "## Download\n",
    "\n",
    "Download the data. This can take several minutes depending on the internet connection and the machine."
   ]
  },
  {
   "cell_type": "code",
   "execution_count": 9,
   "metadata": {},
   "outputs": [
    {
     "name": "stderr",
     "output_type": "stream",
     "text": [
      "[2022-08-02 17:13:55,167] - obspy.clients.fdsn.mass_downloader - INFO: Total acquired or preexisting stations: 0\n",
      "[2022-08-02 17:13:55,170] - obspy.clients.fdsn.mass_downloader - INFO: Client 'IRIS' - Requesting reliable availability.\n",
      "[2022-08-02 17:13:56,359] - obspy.clients.fdsn.mass_downloader - INFO: Client 'IRIS' - Successfully requested availability (1.19 seconds)\n",
      "[2022-08-02 17:13:56,363] - obspy.clients.fdsn.mass_downloader - INFO: Client 'IRIS' - Found 8 stations (24 channels).\n",
      "[2022-08-02 17:13:56,368] - obspy.clients.fdsn.mass_downloader - INFO: Client 'IRIS' - Will attempt to download data from 8 stations.\n",
      "[2022-08-02 17:13:56,392] - obspy.clients.fdsn.mass_downloader - INFO: Client 'IRIS' - Status for 24 time intervals/channels before downloading: NEEDS_DOWNLOADING\n",
      "[2022-08-02 17:14:04,817] - obspy.clients.fdsn.mass_downloader - INFO: Client 'IRIS' - Successfully downloaded 3 channels (of 3)\n",
      "[2022-08-02 17:14:09,067] - obspy.clients.fdsn.mass_downloader - INFO: Client 'IRIS' - Successfully downloaded 3 channels (of 3)\n",
      "[2022-08-02 17:14:12,141] - obspy.clients.fdsn.mass_downloader - INFO: Client 'IRIS' - Successfully downloaded 3 channels (of 3)\n",
      "[2022-08-02 17:14:20,408] - obspy.clients.fdsn.mass_downloader - INFO: Client 'IRIS' - Successfully downloaded 3 channels (of 3)\n",
      "[2022-08-02 17:14:21,404] - obspy.clients.fdsn.mass_downloader - INFO: Client 'IRIS' - Successfully downloaded 3 channels (of 3)\n",
      "[2022-08-02 17:14:26,115] - obspy.clients.fdsn.mass_downloader - INFO: Client 'IRIS' - Successfully downloaded 3 channels (of 3)\n",
      "[2022-08-02 17:14:29,017] - obspy.clients.fdsn.mass_downloader - INFO: Client 'IRIS' - Successfully downloaded 1 channels (of 1)\n",
      "[2022-08-02 17:14:32,284] - obspy.clients.fdsn.mass_downloader - INFO: Client 'IRIS' - Successfully downloaded 1 channels (of 1)\n",
      "[2022-08-02 17:14:34,885] - obspy.clients.fdsn.mass_downloader - INFO: Client 'IRIS' - Successfully downloaded 1 channels (of 1)\n",
      "[2022-08-02 17:16:58,838] - obspy.clients.fdsn.mass_downloader - INFO: Client 'IRIS' - Successfully downloaded 3 channels (of 3)\n",
      "[2022-08-02 17:16:58,843] - obspy.clients.fdsn.mass_downloader - INFO: Client 'IRIS' - Launching basic QC checks...\n",
      "[2022-08-02 17:16:59,399] - obspy.clients.fdsn.mass_downloader - INFO: Client 'IRIS' - Downloaded 226.7 MB [1272.45 KB/sec] of data, 0.0 MB of which were discarded afterwards.\n",
      "[2022-08-02 17:16:59,401] - obspy.clients.fdsn.mass_downloader - INFO: Client 'IRIS' - Status for 24 time intervals/channels after downloading: DOWNLOADED\n",
      "[2022-08-02 17:16:59,698] - obspy.clients.fdsn.mass_downloader - INFO: Client 'IRIS' - Successfully downloaded '../data/YH.DC07.xml'.\n",
      "[2022-08-02 17:16:59,704] - obspy.clients.fdsn.mass_downloader - INFO: Client 'IRIS' - Successfully downloaded '../data/YH.DC08.xml'.\n",
      "[2022-08-02 17:16:59,711] - obspy.clients.fdsn.mass_downloader - INFO: Client 'IRIS' - Successfully downloaded '../data/YH.DC06.xml'.\n",
      "[2022-08-02 17:16:59,982] - obspy.clients.fdsn.mass_downloader - INFO: Client 'IRIS' - Successfully downloaded '../data/YH.DD06.xml'.\n",
      "[2022-08-02 17:16:59,992] - obspy.clients.fdsn.mass_downloader - INFO: Client 'IRIS' - Successfully downloaded '../data/YH.DE07.xml'.\n",
      "[2022-08-02 17:17:00,000] - obspy.clients.fdsn.mass_downloader - INFO: Client 'IRIS' - Successfully downloaded '../data/YH.DE08.xml'.\n",
      "[2022-08-02 17:17:00,288] - obspy.clients.fdsn.mass_downloader - INFO: Client 'IRIS' - Successfully downloaded '../data/YH.SPNC.xml'.\n",
      "[2022-08-02 17:17:00,356] - obspy.clients.fdsn.mass_downloader - INFO: Client 'IRIS' - Successfully downloaded '../data/YH.SAUV.xml'.\n",
      "[2022-08-02 17:17:00,482] - obspy.clients.fdsn.mass_downloader - INFO: Client 'IRIS' - Downloaded 8 station files [2.0 MB] in 1.0 seconds [2167.97 KB/sec].\n",
      "[2022-08-02 17:17:00,483] - obspy.clients.fdsn.mass_downloader - INFO: ============================== Final report\n",
      "[2022-08-02 17:17:00,484] - obspy.clients.fdsn.mass_downloader - INFO: 0 MiniSEED files [0.0 MB] already existed.\n",
      "[2022-08-02 17:17:00,485] - obspy.clients.fdsn.mass_downloader - INFO: 0 StationXML files [0.0 MB] already existed.\n",
      "[2022-08-02 17:17:00,488] - obspy.clients.fdsn.mass_downloader - INFO: Client 'IRIS' - Acquired 24 MiniSEED files [226.7 MB].\n",
      "[2022-08-02 17:17:00,489] - obspy.clients.fdsn.mass_downloader - INFO: Client 'IRIS' - Acquired 8 StationXML files [2.0 MB].\n",
      "[2022-08-02 17:17:00,489] - obspy.clients.fdsn.mass_downloader - INFO: Downloaded 228.7 MB in total.\n"
     ]
    },
    {
     "data": {
      "text/plain": [
       "{'IRIS': <obspy.clients.fdsn.mass_downloader.download_helpers.ClientDownloadHelper at 0x2aac1a2b42e0>}"
      ]
     },
     "execution_count": 9,
     "metadata": {},
     "output_type": "execute_result"
    }
   ],
   "source": [
    "downloader.download(\n",
    "    domain,\n",
    "    restrictions,\n",
    "    mseed_storage=DIRPATH_DESTINATION,\n",
    "    stationxml_storage=DIRPATH_DESTINATION,\n",
    ")"
   ]
  }
 ],
 "metadata": {
  "kernelspec": {
   "display_name": "Python 3.10.5 ('beamnetresponse')",
   "language": "python",
   "name": "python3"
  },
  "language_info": {
   "codemirror_mode": {
    "name": "ipython",
    "version": 3
   },
   "file_extension": ".py",
   "mimetype": "text/x-python",
   "name": "python",
   "nbconvert_exporter": "python",
   "pygments_lexer": "ipython3",
   "version": "3.10.5"
  },
  "orig_nbformat": 4,
  "vscode": {
   "interpreter": {
    "hash": "fbc53244eb12862f830360731181f74bf1926a1d599306ba27738bd1e53a995a"
   }
  }
 },
 "nbformat": 4,
 "nbformat_minor": 2
}
