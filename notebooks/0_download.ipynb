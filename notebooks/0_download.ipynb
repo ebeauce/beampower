{
   "cells": [
      {
         "cell_type": "markdown",
         "metadata": {},
         "source": [
            "# 0. Download seismograms\n",
            "\n",
            "We here download a small dataset to test the package and show the main steps toward earthquake detection and location from continuous data. The dataset consists of one day of data from eight broadband seismic stations with three components. The seismic stations are located in the North Anatolian fault zone.\n",
            "\n",
            "### Download method\n",
            "This notebook uses the `mass_downloader` of `obspy` to find and download the data from the IRIS data center. The download duration can change depending on your location, do not hesitate to consider another dataset that would suit you better. A more extensive tutorial about the mass downloader [is available in obspy's documentation](https://docs.obspy.org/packages/autogen/obspy.clients.fdsn.mass_downloader.html).\n",
            "\n",
            "### Dataset infos\n",
            "\n",
            "| Info | Value |\n",
            "|-|-|\n",
            "| Number of files | 24 |\n",
            "| File size (HH) | 17 MB |\n",
            "| File size (BH) | 8 MB |\n",
            "| Download duration | 1 minute (fastest) to 10 minutes (slowest) |\n",
            "| Overall disk usage | 230 MB |\n",
            "\n",
            "### Contents\n",
            "* [Destination path](#download-destination-path)\n",
            "* [Download preparation](#prepare-the-downloader)\n",
            "* [Download](#download)"
         ]
      },
      {
         "cell_type": "code",
         "execution_count": 1,
         "metadata": {},
         "outputs": [],
         "source": [
            "import os\n",
            "\n",
            "from obspy import UTCDateTime\n",
            "from obspy.clients.fdsn import mass_downloader"
         ]
      },
      {
         "cell_type": "markdown",
         "metadata": {},
         "source": [
            "## Download destination path\n",
            "\n",
            "By default, the package comes with a `data/` folder which can be used to store the downloaded waveforms. The waveforms downloaded there should not be pushed to a new branch if you want to contribute. We indicated the `.mseed` format in the `.gitignore` file; if you download any other data format, please update `.gitignore` accordingly. Feel free to change it to any convenient path of your choice. "
         ]
      },
      {
         "cell_type": "code",
         "execution_count": null,
         "metadata": {},
         "outputs": [],
         "source": [
            "DIRPATH_DESTINATION = \"../data/raw/\""
         ]
      },
      {
         "cell_type": "markdown",
         "metadata": {},
         "source": [
            "If we decide to remove the `data/` repository in the future, this line will ensure that the path can be created."
         ]
      },
      {
         "cell_type": "code",
         "execution_count": 7,
         "metadata": {},
         "outputs": [],
         "source": [
            "os.makedirs(DIRPATH_DESTINATION, exist_ok=True)"
         ]
      },
      {
         "cell_type": "markdown",
         "metadata": {},
         "source": [
            "## Prepare the downloader\n",
            "\n",
            "We here define the geographical domain and other restrictions such as data quality and temporal coverage for downwload. We restrict the download to the North Anatolian domain thanks to the `RectangularDomain` function, and we select the data from the eight seismic stations on either channels `HH` or `BH` with available continuous data over one day (2012/07/26) within the `Restrictions` function."
         ]
      },
      {
         "cell_type": "code",
         "execution_count": null,
         "metadata": {},
         "outputs": [
            {
               "name": "stderr",
               "output_type": "stream",
               "text": [
                  "[2022-08-04 14:53:39,170] - obspy.clients.fdsn.mass_downloader - INFO: Initializing FDSN client(s) for IRIS.\n",
                  "[2022-08-04 14:53:39,170] - obspy.clients.fdsn.mass_downloader - INFO: Initializing FDSN client(s) for IRIS.\n",
                  "[2022-08-04 14:53:39,176] - obspy.clients.fdsn.mass_downloader - INFO: Successfully initialized 1 client(s): IRIS.\n",
                  "[2022-08-04 14:53:39,176] - obspy.clients.fdsn.mass_downloader - INFO: Successfully initialized 1 client(s): IRIS.\n"
               ]
            }
         ],
         "source": [
            "# Geographical restrictions\n",
            "domain = mass_downloader.RectangularDomain(\n",
            "    minlatitude=40.60,\n",
            "    maxlatitude=40.76,\n",
            "    minlongitude=30.20,\n",
            "    maxlongitude=30.44,\n",
            ")\n",
            "\n",
            "# Time and station restrictions\n",
            "restrictions = mass_downloader.Restrictions(\n",
            "    starttime=UTCDateTime(\"2012-07-26\"),\n",
            "    endtime=UTCDateTime(\"2012-07-27\"),\n",
            "    chunklength_in_sec=86400.0,\n",
            "    network=\"YH\",\n",
            "    location=\"*\",\n",
            "    channel=\"BH*,HH*\",\n",
            "    station=\"SAUV,SPNC,DC08,DC07,DC06,DD06,DE07,DE08\",\n",
            "    reject_channels_with_gaps=False,\n",
            "    minimum_length=0.0,\n",
            "    minimum_interstation_distance_in_m=100.0,\n",
            "    channel_priorities=[\"HH[ZNE]\", \"BH[ZNE]\"],\n",
            ")\n",
            "\n",
            "# Downloader instance\n",
            "downloader = mass_downloader.MassDownloader(providers=[\"IRIS\"])"
         ]
      },
      {
         "cell_type": "markdown",
         "metadata": {},
         "source": [
            "## Download\n",
            "\n",
            "Download the data. This can take several minutes depending on the internet connection and the machine."
         ]
      },
      {
         "cell_type": "code",
         "execution_count": 9,
         "metadata": {},
         "outputs": [
            {
               "name": "stderr",
               "output_type": "stream",
               "text": [
                  "[2022-08-04 14:55:23,633] - obspy.clients.fdsn.mass_downloader - INFO: Total acquired or preexisting stations: 0\n",
                  "[2022-08-04 14:55:23,633] - obspy.clients.fdsn.mass_downloader - INFO: Total acquired or preexisting stations: 0\n",
                  "[2022-08-04 14:55:23,635] - obspy.clients.fdsn.mass_downloader - INFO: Client 'IRIS' - Requesting reliable availability.\n",
                  "[2022-08-04 14:55:23,635] - obspy.clients.fdsn.mass_downloader - INFO: Client 'IRIS' - Requesting reliable availability.\n",
                  "[2022-08-04 14:55:24,086] - obspy.clients.fdsn.mass_downloader - INFO: Client 'IRIS' - Successfully requested availability (0.45 seconds)\n",
                  "[2022-08-04 14:55:24,086] - obspy.clients.fdsn.mass_downloader - INFO: Client 'IRIS' - Successfully requested availability (0.45 seconds)\n",
                  "[2022-08-04 14:55:24,089] - obspy.clients.fdsn.mass_downloader - INFO: Client 'IRIS' - Found 8 stations (24 channels).\n",
                  "[2022-08-04 14:55:24,089] - obspy.clients.fdsn.mass_downloader - INFO: Client 'IRIS' - Found 8 stations (24 channels).\n",
                  "[2022-08-04 14:55:24,091] - obspy.clients.fdsn.mass_downloader - INFO: Client 'IRIS' - Will attempt to download data from 8 stations.\n",
                  "[2022-08-04 14:55:24,091] - obspy.clients.fdsn.mass_downloader - INFO: Client 'IRIS' - Will attempt to download data from 8 stations.\n",
                  "[2022-08-04 14:55:24,093] - obspy.clients.fdsn.mass_downloader - INFO: Client 'IRIS' - Status for 24 time intervals/channels before downloading: NEEDS_DOWNLOADING\n",
                  "[2022-08-04 14:55:24,093] - obspy.clients.fdsn.mass_downloader - INFO: Client 'IRIS' - Status for 24 time intervals/channels before downloading: NEEDS_DOWNLOADING\n",
                  "[2022-08-04 14:55:34,571] - obspy.clients.fdsn.mass_downloader - INFO: Client 'IRIS' - Successfully downloaded 3 channels (of 3)\n",
                  "[2022-08-04 14:55:34,571] - obspy.clients.fdsn.mass_downloader - INFO: Client 'IRIS' - Successfully downloaded 3 channels (of 3)\n",
                  "[2022-08-04 14:55:39,048] - obspy.clients.fdsn.mass_downloader - INFO: Client 'IRIS' - Successfully downloaded 3 channels (of 3)\n",
                  "[2022-08-04 14:55:39,048] - obspy.clients.fdsn.mass_downloader - INFO: Client 'IRIS' - Successfully downloaded 3 channels (of 3)\n",
                  "[2022-08-04 14:55:43,566] - obspy.clients.fdsn.mass_downloader - INFO: Client 'IRIS' - Successfully downloaded 3 channels (of 3)\n",
                  "[2022-08-04 14:55:43,566] - obspy.clients.fdsn.mass_downloader - INFO: Client 'IRIS' - Successfully downloaded 3 channels (of 3)\n",
                  "[2022-08-04 14:58:12,074] - obspy.clients.fdsn.mass_downloader - INFO: Client 'IRIS' - Successfully downloaded 3 channels (of 3)\n",
                  "[2022-08-04 14:58:12,074] - obspy.clients.fdsn.mass_downloader - INFO: Client 'IRIS' - Successfully downloaded 3 channels (of 3)\n",
                  "[2022-08-04 14:58:15,698] - obspy.clients.fdsn.mass_downloader - INFO: Client 'IRIS' - Successfully downloaded 3 channels (of 3)\n",
                  "[2022-08-04 14:58:15,698] - obspy.clients.fdsn.mass_downloader - INFO: Client 'IRIS' - Successfully downloaded 3 channels (of 3)\n",
                  "[2022-08-04 14:58:16,719] - obspy.clients.fdsn.mass_downloader - INFO: Client 'IRIS' - Successfully downloaded 3 channels (of 3)\n",
                  "[2022-08-04 14:58:16,719] - obspy.clients.fdsn.mass_downloader - INFO: Client 'IRIS' - Successfully downloaded 3 channels (of 3)\n",
                  "[2022-08-04 14:58:22,047] - obspy.clients.fdsn.mass_downloader - INFO: Client 'IRIS' - Successfully downloaded 1 channels (of 1)\n",
                  "[2022-08-04 14:58:22,047] - obspy.clients.fdsn.mass_downloader - INFO: Client 'IRIS' - Successfully downloaded 1 channels (of 1)\n",
                  "[2022-08-04 14:58:25,272] - obspy.clients.fdsn.mass_downloader - INFO: Client 'IRIS' - Successfully downloaded 1 channels (of 1)\n",
                  "[2022-08-04 14:58:25,272] - obspy.clients.fdsn.mass_downloader - INFO: Client 'IRIS' - Successfully downloaded 1 channels (of 1)\n",
                  "[2022-08-04 14:58:26,644] - obspy.clients.fdsn.mass_downloader - INFO: Client 'IRIS' - Successfully downloaded 1 channels (of 1)\n",
                  "[2022-08-04 14:58:26,644] - obspy.clients.fdsn.mass_downloader - INFO: Client 'IRIS' - Successfully downloaded 1 channels (of 1)\n",
                  "[2022-08-04 14:58:38,219] - obspy.clients.fdsn.mass_downloader - INFO: Client 'IRIS' - Successfully downloaded 3 channels (of 3)\n",
                  "[2022-08-04 14:58:38,219] - obspy.clients.fdsn.mass_downloader - INFO: Client 'IRIS' - Successfully downloaded 3 channels (of 3)\n",
                  "[2022-08-04 14:58:38,220] - obspy.clients.fdsn.mass_downloader - INFO: Client 'IRIS' - Launching basic QC checks...\n",
                  "[2022-08-04 14:58:38,220] - obspy.clients.fdsn.mass_downloader - INFO: Client 'IRIS' - Launching basic QC checks...\n",
                  "[2022-08-04 14:58:38,343] - obspy.clients.fdsn.mass_downloader - INFO: Client 'IRIS' - Downloaded 226.7 MB [1195.91 KB/sec] of data, 0.0 MB of which were discarded afterwards.\n",
                  "[2022-08-04 14:58:38,343] - obspy.clients.fdsn.mass_downloader - INFO: Client 'IRIS' - Downloaded 226.7 MB [1195.91 KB/sec] of data, 0.0 MB of which were discarded afterwards.\n",
                  "[2022-08-04 14:58:38,345] - obspy.clients.fdsn.mass_downloader - INFO: Client 'IRIS' - Status for 24 time intervals/channels after downloading: DOWNLOADED\n",
                  "[2022-08-04 14:58:38,345] - obspy.clients.fdsn.mass_downloader - INFO: Client 'IRIS' - Status for 24 time intervals/channels after downloading: DOWNLOADED\n",
                  "[2022-08-04 14:58:38,852] - obspy.clients.fdsn.mass_downloader - INFO: Client 'IRIS' - Successfully downloaded '../data/raw/YH.DC08.xml'.\n",
                  "[2022-08-04 14:58:38,852] - obspy.clients.fdsn.mass_downloader - INFO: Client 'IRIS' - Successfully downloaded '../data/raw/YH.DC08.xml'.\n",
                  "[2022-08-04 14:58:38,853] - obspy.clients.fdsn.mass_downloader - INFO: Client 'IRIS' - Successfully downloaded '../data/raw/YH.DC07.xml'.\n",
                  "[2022-08-04 14:58:38,853] - obspy.clients.fdsn.mass_downloader - INFO: Client 'IRIS' - Successfully downloaded '../data/raw/YH.DC07.xml'.\n",
                  "[2022-08-04 14:58:38,862] - obspy.clients.fdsn.mass_downloader - INFO: Client 'IRIS' - Successfully downloaded '../data/raw/YH.DC06.xml'.\n",
                  "[2022-08-04 14:58:38,862] - obspy.clients.fdsn.mass_downloader - INFO: Client 'IRIS' - Successfully downloaded '../data/raw/YH.DC06.xml'.\n",
                  "[2022-08-04 14:58:39,174] - obspy.clients.fdsn.mass_downloader - INFO: Client 'IRIS' - Successfully downloaded '../data/raw/YH.DD06.xml'.\n",
                  "[2022-08-04 14:58:39,174] - obspy.clients.fdsn.mass_downloader - INFO: Client 'IRIS' - Successfully downloaded '../data/raw/YH.DD06.xml'.\n",
                  "[2022-08-04 14:58:39,179] - obspy.clients.fdsn.mass_downloader - INFO: Client 'IRIS' - Successfully downloaded '../data/raw/YH.DE07.xml'.\n",
                  "[2022-08-04 14:58:39,179] - obspy.clients.fdsn.mass_downloader - INFO: Client 'IRIS' - Successfully downloaded '../data/raw/YH.DE07.xml'.\n",
                  "[2022-08-04 14:58:39,182] - obspy.clients.fdsn.mass_downloader - INFO: Client 'IRIS' - Successfully downloaded '../data/raw/YH.DE08.xml'.\n",
                  "[2022-08-04 14:58:39,182] - obspy.clients.fdsn.mass_downloader - INFO: Client 'IRIS' - Successfully downloaded '../data/raw/YH.DE08.xml'.\n",
                  "[2022-08-04 14:58:39,492] - obspy.clients.fdsn.mass_downloader - INFO: Client 'IRIS' - Successfully downloaded '../data/raw/YH.SAUV.xml'.\n",
                  "[2022-08-04 14:58:39,492] - obspy.clients.fdsn.mass_downloader - INFO: Client 'IRIS' - Successfully downloaded '../data/raw/YH.SAUV.xml'.\n",
                  "[2022-08-04 14:58:39,497] - obspy.clients.fdsn.mass_downloader - INFO: Client 'IRIS' - Successfully downloaded '../data/raw/YH.SPNC.xml'.\n",
                  "[2022-08-04 14:58:39,497] - obspy.clients.fdsn.mass_downloader - INFO: Client 'IRIS' - Successfully downloaded '../data/raw/YH.SPNC.xml'.\n",
                  "[2022-08-04 14:58:39,547] - obspy.clients.fdsn.mass_downloader - INFO: Client 'IRIS' - Downloaded 8 station files [2.0 MB] in 1.2 seconds [1793.34 KB/sec].\n",
                  "[2022-08-04 14:58:39,547] - obspy.clients.fdsn.mass_downloader - INFO: Client 'IRIS' - Downloaded 8 station files [2.0 MB] in 1.2 seconds [1793.34 KB/sec].\n",
                  "[2022-08-04 14:58:39,549] - obspy.clients.fdsn.mass_downloader - INFO: ============================== Final report\n",
                  "[2022-08-04 14:58:39,549] - obspy.clients.fdsn.mass_downloader - INFO: ============================== Final report\n",
                  "[2022-08-04 14:58:39,551] - obspy.clients.fdsn.mass_downloader - INFO: 0 MiniSEED files [0.0 MB] already existed.\n",
                  "[2022-08-04 14:58:39,551] - obspy.clients.fdsn.mass_downloader - INFO: 0 MiniSEED files [0.0 MB] already existed.\n",
                  "[2022-08-04 14:58:39,552] - obspy.clients.fdsn.mass_downloader - INFO: 0 StationXML files [0.0 MB] already existed.\n",
                  "[2022-08-04 14:58:39,552] - obspy.clients.fdsn.mass_downloader - INFO: 0 StationXML files [0.0 MB] already existed.\n",
                  "[2022-08-04 14:58:39,557] - obspy.clients.fdsn.mass_downloader - INFO: Client 'IRIS' - Acquired 24 MiniSEED files [226.7 MB].\n",
                  "[2022-08-04 14:58:39,557] - obspy.clients.fdsn.mass_downloader - INFO: Client 'IRIS' - Acquired 24 MiniSEED files [226.7 MB].\n",
                  "[2022-08-04 14:58:39,559] - obspy.clients.fdsn.mass_downloader - INFO: Client 'IRIS' - Acquired 8 StationXML files [2.0 MB].\n",
                  "[2022-08-04 14:58:39,559] - obspy.clients.fdsn.mass_downloader - INFO: Client 'IRIS' - Acquired 8 StationXML files [2.0 MB].\n",
                  "[2022-08-04 14:58:39,560] - obspy.clients.fdsn.mass_downloader - INFO: Downloaded 228.7 MB in total.\n",
                  "[2022-08-04 14:58:39,560] - obspy.clients.fdsn.mass_downloader - INFO: Downloaded 228.7 MB in total.\n"
               ]
            },
            {
               "data": {
                  "text/plain": [
                     "{'IRIS': <obspy.clients.fdsn.mass_downloader.download_helpers.ClientDownloadHelper at 0x7fc6c4a15fc0>}"
                  ]
               },
               "execution_count": 9,
               "metadata": {},
               "output_type": "execute_result"
            }
         ],
         "source": [
            "downloader.download(\n",
            "    domain,\n",
            "    restrictions,\n",
            "    mseed_storage=DIRPATH_DESTINATION,\n",
            "    stationxml_storage=DIRPATH_DESTINATION,\n",
            ")"
         ]
      },
      {
         "cell_type": "code",
         "execution_count": null,
         "metadata": {},
         "outputs": [],
         "source": []
      }
   ],
   "metadata": {
      "kernelspec": {
         "display_name": "Python 3.10.4 ('beampower')",
         "language": "python",
         "name": "python3"
      },
      "language_info": {
         "codemirror_mode": {
            "name": "ipython",
            "version": 3
         },
         "file_extension": ".py",
         "mimetype": "text/x-python",
         "name": "python",
         "nbconvert_exporter": "python",
         "pygments_lexer": "ipython3",
         "version": "3.10.4"
      },
      "orig_nbformat": 4,
      "vscode": {
         "interpreter": {
            "hash": "9eeed5ba9ea72611a2792da8d11f9e382babe73a188682d1e08d67ef96b389ce"
         }
      }
   },
   "nbformat": 4,
   "nbformat_minor": 2
}