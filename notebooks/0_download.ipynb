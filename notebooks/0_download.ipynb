{
 "cells": [
  {
   "cell_type": "markdown",
   "metadata": {},
   "source": [
    "# Download toy seismic dataset \n",
    "\n",
    "This first notebook allows downloading a small toy dataset to use the package. The dataset consists of 8 broadband seismic stations with three components, each located in the North Anatolian fault zone. This notebook uses the mass downloader of obspy to find and download the data."
   ]
  },
  {
   "cell_type": "code",
   "execution_count": 10,
   "metadata": {},
   "outputs": [],
   "source": [
    "import obspy\n",
    "import os\n",
    "\n",
    "from obspy.clients import fdsn"
   ]
  },
  {
   "cell_type": "markdown",
   "metadata": {},
   "source": [
    "## Download path\n",
    "\n",
    "By default, the package comes with a `data` folder which can be used to store the downloaded waveforms. Feel free to change it to any convenient path of your choice. "
   ]
  },
  {
   "cell_type": "code",
   "execution_count": 5,
   "metadata": {},
   "outputs": [],
   "source": [
    "DIRPATH_WAVEFORMS = \"../data/\"\n",
    "\n",
    "# Create the repository if needed\n",
    "if not os.path.isdir(DIRPATH_WAVEFORMS):\n",
    "    os.mkdir(DIRPATH_WAVEFORMS)"
   ]
  },
  {
   "cell_type": "markdown",
   "metadata": {},
   "source": [
    "## Time and space selection\n",
    "\n",
    "We restrict the download to the North Anatolian domain, and we select the data from eight seismic stations with available continuous data over one day (2012/07/26)."
   ]
  },
  {
   "cell_type": "code",
   "execution_count": 17,
   "metadata": {},
   "outputs": [],
   "source": [
    "# Geographical restrictions\n",
    "domain = fdsn.mass_downloader.RectangularDomain(\n",
    "    minlatitude=40.60,\n",
    "    maxlatitude=40.76,\n",
    "    minlongitude=30.20,\n",
    "    maxlongitude=30.44,\n",
    ")\n",
    "\n",
    "# Time and station restrictions\n",
    "restrictions = fdsn.mass_downloader.Restrictions(\n",
    "    starttime=obspy.UTCDateTime(\"2012-07-26\"),\n",
    "    endtime=obspy.UTCDateTime(\"2012-07-27\"),\n",
    "    chunklength_in_sec=86400.0,\n",
    "    network=\"YH\",\n",
    "    location=\"*\",\n",
    "    channel=\"BH*,HH*\",\n",
    "    station=\"SAUV,SPNC,DC08,DC07,DC06,DD06,DE07,DE08\",\n",
    "    reject_channels_with_gaps=False,\n",
    "    minimum_length=0.0,\n",
    "    minimum_interstation_distance_in_m=100.0,\n",
    "    channel_priorities=[\"HH[ZNE]\", \"BH[ZNE]\"],\n",
    ")\n",
    "\n",
    "# Downloader instance\n",
    "downloader = fdsn.mass_downloader.MassDownloader(providers=[\"IRIS\"])"
   ]
  },
  {
   "cell_type": "markdown",
   "metadata": {},
   "source": [
    "## Download\n",
    "\n",
    "Download the data. This can take several minutes depending on the internet connection and the machine."
   ]
  },
  {
   "cell_type": "code",
   "execution_count": 14,
   "metadata": {},
   "outputs": [
    {
     "name": "stderr",
     "output_type": "stream",
     "text": [
      "[2022-08-01 10:04:25,374] - obspy.clients.fdsn.mass_downloader - INFO: Initializing FDSN client(s) for IRIS.\n",
      "[2022-08-01 10:04:25,374] - obspy.clients.fdsn.mass_downloader - INFO: Initializing FDSN client(s) for IRIS.\n",
      "[2022-08-01 10:04:25,374] - obspy.clients.fdsn.mass_downloader - INFO: Initializing FDSN client(s) for IRIS.\n",
      "[2022-08-01 10:04:25,374] - obspy.clients.fdsn.mass_downloader - INFO: Initializing FDSN client(s) for IRIS.\n",
      "[2022-08-01 10:04:25,388] - obspy.clients.fdsn.mass_downloader - INFO: Successfully initialized 1 client(s): IRIS.\n",
      "[2022-08-01 10:04:25,388] - obspy.clients.fdsn.mass_downloader - INFO: Successfully initialized 1 client(s): IRIS.\n",
      "[2022-08-01 10:04:25,388] - obspy.clients.fdsn.mass_downloader - INFO: Successfully initialized 1 client(s): IRIS.\n",
      "[2022-08-01 10:04:25,388] - obspy.clients.fdsn.mass_downloader - INFO: Successfully initialized 1 client(s): IRIS.\n",
      "[2022-08-01 10:04:25,395] - obspy.clients.fdsn.mass_downloader - INFO: Total acquired or preexisting stations: 0\n",
      "[2022-08-01 10:04:25,395] - obspy.clients.fdsn.mass_downloader - INFO: Total acquired or preexisting stations: 0\n",
      "[2022-08-01 10:04:25,395] - obspy.clients.fdsn.mass_downloader - INFO: Total acquired or preexisting stations: 0\n",
      "[2022-08-01 10:04:25,395] - obspy.clients.fdsn.mass_downloader - INFO: Total acquired or preexisting stations: 0\n",
      "[2022-08-01 10:04:25,400] - obspy.clients.fdsn.mass_downloader - INFO: Client 'IRIS' - Requesting reliable availability.\n",
      "[2022-08-01 10:04:25,400] - obspy.clients.fdsn.mass_downloader - INFO: Client 'IRIS' - Requesting reliable availability.\n",
      "[2022-08-01 10:04:25,400] - obspy.clients.fdsn.mass_downloader - INFO: Client 'IRIS' - Requesting reliable availability.\n",
      "[2022-08-01 10:04:25,400] - obspy.clients.fdsn.mass_downloader - INFO: Client 'IRIS' - Requesting reliable availability.\n",
      "[2022-08-01 10:04:26,815] - obspy.clients.fdsn.mass_downloader - INFO: Client 'IRIS' - Successfully requested availability (1.41 seconds)\n",
      "[2022-08-01 10:04:26,815] - obspy.clients.fdsn.mass_downloader - INFO: Client 'IRIS' - Successfully requested availability (1.41 seconds)\n",
      "[2022-08-01 10:04:26,815] - obspy.clients.fdsn.mass_downloader - INFO: Client 'IRIS' - Successfully requested availability (1.41 seconds)\n",
      "[2022-08-01 10:04:26,815] - obspy.clients.fdsn.mass_downloader - INFO: Client 'IRIS' - Successfully requested availability (1.41 seconds)\n",
      "[2022-08-01 10:04:26,827] - obspy.clients.fdsn.mass_downloader - INFO: Client 'IRIS' - Found 8 stations (24 channels).\n",
      "[2022-08-01 10:04:26,827] - obspy.clients.fdsn.mass_downloader - INFO: Client 'IRIS' - Found 8 stations (24 channels).\n",
      "[2022-08-01 10:04:26,827] - obspy.clients.fdsn.mass_downloader - INFO: Client 'IRIS' - Found 8 stations (24 channels).\n",
      "[2022-08-01 10:04:26,827] - obspy.clients.fdsn.mass_downloader - INFO: Client 'IRIS' - Found 8 stations (24 channels).\n",
      "[2022-08-01 10:04:26,835] - obspy.clients.fdsn.mass_downloader - INFO: Client 'IRIS' - Will attempt to download data from 8 stations.\n",
      "[2022-08-01 10:04:26,835] - obspy.clients.fdsn.mass_downloader - INFO: Client 'IRIS' - Will attempt to download data from 8 stations.\n",
      "[2022-08-01 10:04:26,835] - obspy.clients.fdsn.mass_downloader - INFO: Client 'IRIS' - Will attempt to download data from 8 stations.\n",
      "[2022-08-01 10:04:26,835] - obspy.clients.fdsn.mass_downloader - INFO: Client 'IRIS' - Will attempt to download data from 8 stations.\n",
      "[2022-08-01 10:04:26,851] - obspy.clients.fdsn.mass_downloader - INFO: Client 'IRIS' - Status for 24 time intervals/channels before downloading: NEEDS_DOWNLOADING\n",
      "[2022-08-01 10:04:26,851] - obspy.clients.fdsn.mass_downloader - INFO: Client 'IRIS' - Status for 24 time intervals/channels before downloading: NEEDS_DOWNLOADING\n",
      "[2022-08-01 10:04:26,851] - obspy.clients.fdsn.mass_downloader - INFO: Client 'IRIS' - Status for 24 time intervals/channels before downloading: NEEDS_DOWNLOADING\n",
      "[2022-08-01 10:04:26,851] - obspy.clients.fdsn.mass_downloader - INFO: Client 'IRIS' - Status for 24 time intervals/channels before downloading: NEEDS_DOWNLOADING\n",
      "[2022-08-01 10:06:04,466] - obspy.clients.fdsn.mass_downloader - INFO: Client 'IRIS' - Successfully downloaded 3 channels (of 3)\n",
      "[2022-08-01 10:06:04,466] - obspy.clients.fdsn.mass_downloader - INFO: Client 'IRIS' - Successfully downloaded 3 channels (of 3)\n",
      "[2022-08-01 10:06:04,466] - obspy.clients.fdsn.mass_downloader - INFO: Client 'IRIS' - Successfully downloaded 3 channels (of 3)\n",
      "[2022-08-01 10:06:04,466] - obspy.clients.fdsn.mass_downloader - INFO: Client 'IRIS' - Successfully downloaded 3 channels (of 3)\n",
      "[2022-08-01 10:06:38,540] - obspy.clients.fdsn.mass_downloader - INFO: Client 'IRIS' - Successfully downloaded 3 channels (of 3)\n",
      "[2022-08-01 10:06:38,540] - obspy.clients.fdsn.mass_downloader - INFO: Client 'IRIS' - Successfully downloaded 3 channels (of 3)\n",
      "[2022-08-01 10:06:38,540] - obspy.clients.fdsn.mass_downloader - INFO: Client 'IRIS' - Successfully downloaded 3 channels (of 3)\n",
      "[2022-08-01 10:06:38,540] - obspy.clients.fdsn.mass_downloader - INFO: Client 'IRIS' - Successfully downloaded 3 channels (of 3)\n",
      "[2022-08-01 10:06:48,981] - obspy.clients.fdsn.mass_downloader - INFO: Client 'IRIS' - Successfully downloaded 3 channels (of 3)\n",
      "[2022-08-01 10:06:48,981] - obspy.clients.fdsn.mass_downloader - INFO: Client 'IRIS' - Successfully downloaded 3 channels (of 3)\n",
      "[2022-08-01 10:06:48,981] - obspy.clients.fdsn.mass_downloader - INFO: Client 'IRIS' - Successfully downloaded 3 channels (of 3)\n",
      "[2022-08-01 10:06:48,981] - obspy.clients.fdsn.mass_downloader - INFO: Client 'IRIS' - Successfully downloaded 3 channels (of 3)\n",
      "[2022-08-01 10:08:26,771] - obspy.clients.fdsn.mass_downloader - INFO: Client 'IRIS' - Successfully downloaded 3 channels (of 3)\n",
      "[2022-08-01 10:08:26,771] - obspy.clients.fdsn.mass_downloader - INFO: Client 'IRIS' - Successfully downloaded 3 channels (of 3)\n",
      "[2022-08-01 10:08:26,771] - obspy.clients.fdsn.mass_downloader - INFO: Client 'IRIS' - Successfully downloaded 3 channels (of 3)\n",
      "[2022-08-01 10:08:26,771] - obspy.clients.fdsn.mass_downloader - INFO: Client 'IRIS' - Successfully downloaded 3 channels (of 3)\n",
      "[2022-08-01 10:09:01,833] - obspy.clients.fdsn.mass_downloader - INFO: Client 'IRIS' - Successfully downloaded 3 channels (of 3)\n",
      "[2022-08-01 10:09:01,833] - obspy.clients.fdsn.mass_downloader - INFO: Client 'IRIS' - Successfully downloaded 3 channels (of 3)\n",
      "[2022-08-01 10:09:01,833] - obspy.clients.fdsn.mass_downloader - INFO: Client 'IRIS' - Successfully downloaded 3 channels (of 3)\n",
      "[2022-08-01 10:09:01,833] - obspy.clients.fdsn.mass_downloader - INFO: Client 'IRIS' - Successfully downloaded 3 channels (of 3)\n",
      "[2022-08-01 10:09:09,240] - obspy.clients.fdsn.mass_downloader - INFO: Client 'IRIS' - Successfully downloaded 3 channels (of 3)\n",
      "[2022-08-01 10:09:09,240] - obspy.clients.fdsn.mass_downloader - INFO: Client 'IRIS' - Successfully downloaded 3 channels (of 3)\n",
      "[2022-08-01 10:09:09,240] - obspy.clients.fdsn.mass_downloader - INFO: Client 'IRIS' - Successfully downloaded 3 channels (of 3)\n",
      "[2022-08-01 10:09:09,240] - obspy.clients.fdsn.mass_downloader - INFO: Client 'IRIS' - Successfully downloaded 3 channels (of 3)\n",
      "[2022-08-01 10:09:53,221] - obspy.clients.fdsn.mass_downloader - INFO: Client 'IRIS' - Successfully downloaded 1 channels (of 1)\n",
      "[2022-08-01 10:09:53,221] - obspy.clients.fdsn.mass_downloader - INFO: Client 'IRIS' - Successfully downloaded 1 channels (of 1)\n",
      "[2022-08-01 10:09:53,221] - obspy.clients.fdsn.mass_downloader - INFO: Client 'IRIS' - Successfully downloaded 1 channels (of 1)\n",
      "[2022-08-01 10:09:53,221] - obspy.clients.fdsn.mass_downloader - INFO: Client 'IRIS' - Successfully downloaded 1 channels (of 1)\n",
      "[2022-08-01 10:10:30,331] - obspy.clients.fdsn.mass_downloader - INFO: Client 'IRIS' - Successfully downloaded 1 channels (of 1)\n",
      "[2022-08-01 10:10:30,331] - obspy.clients.fdsn.mass_downloader - INFO: Client 'IRIS' - Successfully downloaded 1 channels (of 1)\n",
      "[2022-08-01 10:10:30,331] - obspy.clients.fdsn.mass_downloader - INFO: Client 'IRIS' - Successfully downloaded 1 channels (of 1)\n",
      "[2022-08-01 10:10:30,331] - obspy.clients.fdsn.mass_downloader - INFO: Client 'IRIS' - Successfully downloaded 1 channels (of 1)\n",
      "[2022-08-01 10:10:35,883] - obspy.clients.fdsn.mass_downloader - INFO: Client 'IRIS' - Successfully downloaded 1 channels (of 1)\n",
      "[2022-08-01 10:10:35,883] - obspy.clients.fdsn.mass_downloader - INFO: Client 'IRIS' - Successfully downloaded 1 channels (of 1)\n",
      "[2022-08-01 10:10:35,883] - obspy.clients.fdsn.mass_downloader - INFO: Client 'IRIS' - Successfully downloaded 1 channels (of 1)\n",
      "[2022-08-01 10:10:35,883] - obspy.clients.fdsn.mass_downloader - INFO: Client 'IRIS' - Successfully downloaded 1 channels (of 1)\n",
      "[2022-08-01 10:12:17,459] - obspy.clients.fdsn.mass_downloader - INFO: Client 'IRIS' - Successfully downloaded 3 channels (of 3)\n",
      "[2022-08-01 10:12:17,459] - obspy.clients.fdsn.mass_downloader - INFO: Client 'IRIS' - Successfully downloaded 3 channels (of 3)\n",
      "[2022-08-01 10:12:17,459] - obspy.clients.fdsn.mass_downloader - INFO: Client 'IRIS' - Successfully downloaded 3 channels (of 3)\n",
      "[2022-08-01 10:12:17,459] - obspy.clients.fdsn.mass_downloader - INFO: Client 'IRIS' - Successfully downloaded 3 channels (of 3)\n",
      "[2022-08-01 10:12:17,466] - obspy.clients.fdsn.mass_downloader - INFO: Client 'IRIS' - Launching basic QC checks...\n",
      "[2022-08-01 10:12:17,466] - obspy.clients.fdsn.mass_downloader - INFO: Client 'IRIS' - Launching basic QC checks...\n",
      "[2022-08-01 10:12:17,466] - obspy.clients.fdsn.mass_downloader - INFO: Client 'IRIS' - Launching basic QC checks...\n",
      "[2022-08-01 10:12:17,466] - obspy.clients.fdsn.mass_downloader - INFO: Client 'IRIS' - Launching basic QC checks...\n",
      "[2022-08-01 10:12:18,875] - obspy.clients.fdsn.mass_downloader - INFO: Client 'IRIS' - Downloaded 226.7 MB [493.31 KB/sec] of data, 0.0 MB of which were discarded afterwards.\n",
      "[2022-08-01 10:12:18,875] - obspy.clients.fdsn.mass_downloader - INFO: Client 'IRIS' - Downloaded 226.7 MB [493.31 KB/sec] of data, 0.0 MB of which were discarded afterwards.\n",
      "[2022-08-01 10:12:18,875] - obspy.clients.fdsn.mass_downloader - INFO: Client 'IRIS' - Downloaded 226.7 MB [493.31 KB/sec] of data, 0.0 MB of which were discarded afterwards.\n",
      "[2022-08-01 10:12:18,875] - obspy.clients.fdsn.mass_downloader - INFO: Client 'IRIS' - Downloaded 226.7 MB [493.31 KB/sec] of data, 0.0 MB of which were discarded afterwards.\n",
      "[2022-08-01 10:12:18,880] - obspy.clients.fdsn.mass_downloader - INFO: Client 'IRIS' - Status for 24 time intervals/channels after downloading: DOWNLOADED\n",
      "[2022-08-01 10:12:18,880] - obspy.clients.fdsn.mass_downloader - INFO: Client 'IRIS' - Status for 24 time intervals/channels after downloading: DOWNLOADED\n",
      "[2022-08-01 10:12:18,880] - obspy.clients.fdsn.mass_downloader - INFO: Client 'IRIS' - Status for 24 time intervals/channels after downloading: DOWNLOADED\n",
      "[2022-08-01 10:12:18,880] - obspy.clients.fdsn.mass_downloader - INFO: Client 'IRIS' - Status for 24 time intervals/channels after downloading: DOWNLOADED\n",
      "[2022-08-01 10:12:19,304] - obspy.clients.fdsn.mass_downloader - INFO: Client 'IRIS' - Successfully downloaded '../data/YH.DC08.xml'.\n",
      "[2022-08-01 10:12:19,304] - obspy.clients.fdsn.mass_downloader - INFO: Client 'IRIS' - Successfully downloaded '../data/YH.DC08.xml'.\n",
      "[2022-08-01 10:12:19,304] - obspy.clients.fdsn.mass_downloader - INFO: Client 'IRIS' - Successfully downloaded '../data/YH.DC08.xml'.\n",
      "[2022-08-01 10:12:19,304] - obspy.clients.fdsn.mass_downloader - INFO: Client 'IRIS' - Successfully downloaded '../data/YH.DC08.xml'.\n",
      "[2022-08-01 10:12:19,362] - obspy.clients.fdsn.mass_downloader - INFO: Client 'IRIS' - Successfully downloaded '../data/YH.DC07.xml'.\n",
      "[2022-08-01 10:12:19,362] - obspy.clients.fdsn.mass_downloader - INFO: Client 'IRIS' - Successfully downloaded '../data/YH.DC07.xml'.\n",
      "[2022-08-01 10:12:19,363] - obspy.clients.fdsn.mass_downloader - INFO: Client 'IRIS' - Successfully downloaded '../data/YH.DC06.xml'.\n",
      "[2022-08-01 10:12:19,362] - obspy.clients.fdsn.mass_downloader - INFO: Client 'IRIS' - Successfully downloaded '../data/YH.DC07.xml'.\n",
      "[2022-08-01 10:12:19,363] - obspy.clients.fdsn.mass_downloader - INFO: Client 'IRIS' - Successfully downloaded '../data/YH.DC06.xml'.\n",
      "[2022-08-01 10:12:19,362] - obspy.clients.fdsn.mass_downloader - INFO: Client 'IRIS' - Successfully downloaded '../data/YH.DC07.xml'.\n",
      "[2022-08-01 10:12:19,363] - obspy.clients.fdsn.mass_downloader - INFO: Client 'IRIS' - Successfully downloaded '../data/YH.DC06.xml'.\n",
      "[2022-08-01 10:12:19,363] - obspy.clients.fdsn.mass_downloader - INFO: Client 'IRIS' - Successfully downloaded '../data/YH.DC06.xml'.\n",
      "[2022-08-01 10:12:19,592] - obspy.clients.fdsn.mass_downloader - INFO: Client 'IRIS' - Successfully downloaded '../data/YH.DD06.xml'.\n",
      "[2022-08-01 10:12:19,592] - obspy.clients.fdsn.mass_downloader - INFO: Client 'IRIS' - Successfully downloaded '../data/YH.DD06.xml'.\n",
      "[2022-08-01 10:12:19,592] - obspy.clients.fdsn.mass_downloader - INFO: Client 'IRIS' - Successfully downloaded '../data/YH.DD06.xml'.\n",
      "[2022-08-01 10:12:19,592] - obspy.clients.fdsn.mass_downloader - INFO: Client 'IRIS' - Successfully downloaded '../data/YH.DD06.xml'.\n",
      "[2022-08-01 10:12:19,652] - obspy.clients.fdsn.mass_downloader - INFO: Client 'IRIS' - Successfully downloaded '../data/YH.DE07.xml'.\n",
      "[2022-08-01 10:12:19,652] - obspy.clients.fdsn.mass_downloader - INFO: Client 'IRIS' - Successfully downloaded '../data/YH.DE07.xml'.\n",
      "[2022-08-01 10:12:19,654] - obspy.clients.fdsn.mass_downloader - INFO: Client 'IRIS' - Successfully downloaded '../data/YH.DE08.xml'.\n",
      "[2022-08-01 10:12:19,652] - obspy.clients.fdsn.mass_downloader - INFO: Client 'IRIS' - Successfully downloaded '../data/YH.DE07.xml'.\n",
      "[2022-08-01 10:12:19,654] - obspy.clients.fdsn.mass_downloader - INFO: Client 'IRIS' - Successfully downloaded '../data/YH.DE08.xml'.\n",
      "[2022-08-01 10:12:19,652] - obspy.clients.fdsn.mass_downloader - INFO: Client 'IRIS' - Successfully downloaded '../data/YH.DE07.xml'.\n",
      "[2022-08-01 10:12:19,654] - obspy.clients.fdsn.mass_downloader - INFO: Client 'IRIS' - Successfully downloaded '../data/YH.DE08.xml'.\n",
      "[2022-08-01 10:12:19,654] - obspy.clients.fdsn.mass_downloader - INFO: Client 'IRIS' - Successfully downloaded '../data/YH.DE08.xml'.\n",
      "[2022-08-01 10:12:19,941] - obspy.clients.fdsn.mass_downloader - INFO: Client 'IRIS' - Successfully downloaded '../data/YH.SPNC.xml'.\n",
      "[2022-08-01 10:12:19,941] - obspy.clients.fdsn.mass_downloader - INFO: Client 'IRIS' - Successfully downloaded '../data/YH.SPNC.xml'.\n",
      "[2022-08-01 10:12:19,941] - obspy.clients.fdsn.mass_downloader - INFO: Client 'IRIS' - Successfully downloaded '../data/YH.SPNC.xml'.\n",
      "[2022-08-01 10:12:19,941] - obspy.clients.fdsn.mass_downloader - INFO: Client 'IRIS' - Successfully downloaded '../data/YH.SPNC.xml'.\n",
      "[2022-08-01 10:12:19,966] - obspy.clients.fdsn.mass_downloader - INFO: Client 'IRIS' - Successfully downloaded '../data/YH.SAUV.xml'.\n",
      "[2022-08-01 10:12:19,966] - obspy.clients.fdsn.mass_downloader - INFO: Client 'IRIS' - Successfully downloaded '../data/YH.SAUV.xml'.\n",
      "[2022-08-01 10:12:19,966] - obspy.clients.fdsn.mass_downloader - INFO: Client 'IRIS' - Successfully downloaded '../data/YH.SAUV.xml'.\n",
      "[2022-08-01 10:12:19,966] - obspy.clients.fdsn.mass_downloader - INFO: Client 'IRIS' - Successfully downloaded '../data/YH.SAUV.xml'.\n",
      "[2022-08-01 10:12:20,061] - obspy.clients.fdsn.mass_downloader - INFO: Client 'IRIS' - Downloaded 8 station files [2.0 MB] in 1.1 seconds [1908.48 KB/sec].\n",
      "[2022-08-01 10:12:20,061] - obspy.clients.fdsn.mass_downloader - INFO: Client 'IRIS' - Downloaded 8 station files [2.0 MB] in 1.1 seconds [1908.48 KB/sec].\n",
      "[2022-08-01 10:12:20,061] - obspy.clients.fdsn.mass_downloader - INFO: Client 'IRIS' - Downloaded 8 station files [2.0 MB] in 1.1 seconds [1908.48 KB/sec].\n",
      "[2022-08-01 10:12:20,061] - obspy.clients.fdsn.mass_downloader - INFO: Client 'IRIS' - Downloaded 8 station files [2.0 MB] in 1.1 seconds [1908.48 KB/sec].\n",
      "[2022-08-01 10:12:20,069] - obspy.clients.fdsn.mass_downloader - INFO: ============================== Final report\n",
      "[2022-08-01 10:12:20,069] - obspy.clients.fdsn.mass_downloader - INFO: ============================== Final report\n",
      "[2022-08-01 10:12:20,069] - obspy.clients.fdsn.mass_downloader - INFO: ============================== Final report\n",
      "[2022-08-01 10:12:20,069] - obspy.clients.fdsn.mass_downloader - INFO: ============================== Final report\n",
      "[2022-08-01 10:12:20,074] - obspy.clients.fdsn.mass_downloader - INFO: 0 MiniSEED files [0.0 MB] already existed.\n",
      "[2022-08-01 10:12:20,074] - obspy.clients.fdsn.mass_downloader - INFO: 0 MiniSEED files [0.0 MB] already existed.\n",
      "[2022-08-01 10:12:20,074] - obspy.clients.fdsn.mass_downloader - INFO: 0 MiniSEED files [0.0 MB] already existed.\n",
      "[2022-08-01 10:12:20,074] - obspy.clients.fdsn.mass_downloader - INFO: 0 MiniSEED files [0.0 MB] already existed.\n",
      "[2022-08-01 10:12:20,080] - obspy.clients.fdsn.mass_downloader - INFO: 0 StationXML files [0.0 MB] already existed.\n",
      "[2022-08-01 10:12:20,080] - obspy.clients.fdsn.mass_downloader - INFO: 0 StationXML files [0.0 MB] already existed.\n",
      "[2022-08-01 10:12:20,080] - obspy.clients.fdsn.mass_downloader - INFO: 0 StationXML files [0.0 MB] already existed.\n",
      "[2022-08-01 10:12:20,080] - obspy.clients.fdsn.mass_downloader - INFO: 0 StationXML files [0.0 MB] already existed.\n",
      "[2022-08-01 10:12:20,085] - obspy.clients.fdsn.mass_downloader - INFO: Client 'IRIS' - Acquired 24 MiniSEED files [226.7 MB].\n",
      "[2022-08-01 10:12:20,085] - obspy.clients.fdsn.mass_downloader - INFO: Client 'IRIS' - Acquired 24 MiniSEED files [226.7 MB].\n",
      "[2022-08-01 10:12:20,085] - obspy.clients.fdsn.mass_downloader - INFO: Client 'IRIS' - Acquired 24 MiniSEED files [226.7 MB].\n",
      "[2022-08-01 10:12:20,085] - obspy.clients.fdsn.mass_downloader - INFO: Client 'IRIS' - Acquired 24 MiniSEED files [226.7 MB].\n",
      "[2022-08-01 10:12:20,089] - obspy.clients.fdsn.mass_downloader - INFO: Client 'IRIS' - Acquired 8 StationXML files [2.0 MB].\n",
      "[2022-08-01 10:12:20,089] - obspy.clients.fdsn.mass_downloader - INFO: Client 'IRIS' - Acquired 8 StationXML files [2.0 MB].\n",
      "[2022-08-01 10:12:20,089] - obspy.clients.fdsn.mass_downloader - INFO: Client 'IRIS' - Acquired 8 StationXML files [2.0 MB].\n",
      "[2022-08-01 10:12:20,089] - obspy.clients.fdsn.mass_downloader - INFO: Client 'IRIS' - Acquired 8 StationXML files [2.0 MB].\n",
      "[2022-08-01 10:12:20,094] - obspy.clients.fdsn.mass_downloader - INFO: Downloaded 228.7 MB in total.\n",
      "[2022-08-01 10:12:20,094] - obspy.clients.fdsn.mass_downloader - INFO: Downloaded 228.7 MB in total.\n",
      "[2022-08-01 10:12:20,094] - obspy.clients.fdsn.mass_downloader - INFO: Downloaded 228.7 MB in total.\n",
      "[2022-08-01 10:12:20,094] - obspy.clients.fdsn.mass_downloader - INFO: Downloaded 228.7 MB in total.\n"
     ]
    },
    {
     "data": {
      "text/plain": [
       "{'IRIS': <obspy.clients.fdsn.mass_downloader.download_helpers.ClientDownloadHelper at 0x2aaae8ebd6d0>}"
      ]
     },
     "execution_count": 14,
     "metadata": {},
     "output_type": "execute_result"
    }
   ],
   "source": [
    "downloader.download(\n",
    "    domain,\n",
    "    restrictions,\n",
    "    mseed_storage=DIRPATH_WAVEFORMS,\n",
    "    stationxml_storage=DIRPATH_WAVEFORMS,\n",
    ")"
   ]
  },
  {
   "cell_type": "code",
   "execution_count": null,
   "metadata": {},
   "outputs": [],
   "source": []
  }
 ],
 "metadata": {
  "kernelspec": {
   "display_name": "Python 3.9.0 ('torch')",
   "language": "python",
   "name": "python3"
  },
  "language_info": {
   "codemirror_mode": {
    "name": "ipython",
    "version": 3
   },
   "file_extension": ".py",
   "mimetype": "text/x-python",
   "name": "python",
   "nbconvert_exporter": "python",
   "pygments_lexer": "ipython3",
   "version": "3.9.0"
  },
  "orig_nbformat": 4,
  "vscode": {
   "interpreter": {
    "hash": "5a378bb05d8df42cdaa8ec0c3e2eb425d64c45ed51cc6fd0c84004642c3ec089"
   }
  }
 },
 "nbformat": 4,
 "nbformat_minor": 2
}
