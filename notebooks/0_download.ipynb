{
 "cells": [
  {
   "cell_type": "markdown",
   "metadata": {},
   "source": [
    "# 0. Download seismograms\n",
    "\n",
    "We here download a small dataset to test the package and show the main steps toward earthquake detection and location from continuous data. The dataset consists of one day of data from eight broadband seismic stations with three components. The seismic stations are located in the North Anatolian fault zone.\n",
    "\n",
    "### Download method\n",
    "This notebook uses the `mass_downloader` of `obspy` to find and download the data from the IRIS data center. The download duration can change depending on your location, do not hesitate to consider another dataset that would suit you better. A more extensive tutorial about the mass downloader [is available in obspy's documentation](https://docs.obspy.org/packages/autogen/obspy.clients.fdsn.mass_downloader.html).\n",
    "\n",
    "### Dataset infos\n",
    "\n",
    "| Info | Value |\n",
    "|-|-|\n",
    "| Number of files | 24 |\n",
    "| File size (HH) | 17 MB |\n",
    "| File size (BH) | 8 MB |\n",
    "| Download duration | < 10 minutes |\n",
    "| Overall disk usage | 250 MB |\n",
    "\n",
    "### Contents\n",
    "* [Destination path](#download-destination-path)\n",
    "* [Download preparation](#prepare-the-downloader)\n",
    "* [Download](#download)"
   ]
  },
  {
   "cell_type": "code",
   "execution_count": null,
   "metadata": {},
   "outputs": [],
   "source": [
    "import os\n",
    "\n",
    "from obspy import UTCDateTime\n",
    "from obspy.clients.fdsn import mass_downloader"
   ]
  },
  {
   "cell_type": "markdown",
   "metadata": {},
   "source": [
    "## Download destination path\n",
    "\n",
    "By default, the package comes with a `data/` folder which can be used to store the downloaded waveforms. The waveforms downloaded there should not be pushed to a new branch if you want to contribute. We indicated the `.mseed` format in the `.gitignore` file; if you download any other data format, please update `.gitignore` accordingly. Feel free to change it to any convenient path of your choice. "
   ]
  },
  {
   "cell_type": "code",
   "execution_count": null,
   "metadata": {},
   "outputs": [],
   "source": [
    "DIRPATH_DESTINATION = \"../data/\""
   ]
  },
  {
   "cell_type": "markdown",
   "metadata": {},
   "source": [
    "If we decide to remove the `data/` repository in the future, this line will ensure that the path can be created."
   ]
  },
  {
   "cell_type": "code",
   "execution_count": null,
   "metadata": {},
   "outputs": [],
   "source": [
    "os.makedirs(DIRPATH_DESTINATION, exist_ok=True)"
   ]
  },
  {
   "cell_type": "markdown",
   "metadata": {},
   "source": [
    "## Prepare the downloader\n",
    "\n",
    "We here define the geographical domain and other restrictions such as data quality and temporal coverage for downwload. We restrict the download to the North Anatolian domain thanks to the `RectangularDomain` function, and we select the data from the eight seismic stations on either channels `HH` or `BH` with available continuous data over one day (2012/07/26) within the `Restrictions` function."
   ]
  },
  {
   "cell_type": "code",
   "execution_count": null,
   "metadata": {},
   "outputs": [],
   "source": [
    "# Geographical restrictions\n",
    "domain = mass_downloader.RectangularDomain(\n",
    "    minlatitude=40.60,\n",
    "    maxlatitude=40.76,\n",
    "    minlongitude=30.20,\n",
    "    maxlongitude=30.44,\n",
    ")\n",
    "\n",
    "# Time and station restrictions\n",
    "restrictions = mass_downloader.Restrictions(\n",
    "    starttime=UTCDateTime(\"2012-07-26\"),\n",
    "    endtime=UTCDateTime(\"2012-07-27\"),\n",
    "    chunklength_in_sec=86400.0,\n",
    "    network=\"YH\",\n",
    "    location=\"*\",\n",
    "    channel=\"BH*,HH*\",\n",
    "    station=\"SAUV,SPNC,DC08,DC07,DC06,DD06,DE07,DE08\",\n",
    "    reject_channels_with_gaps=False,\n",
    "    minimum_length=0.0,\n",
    "    minimum_interstation_distance_in_m=100.0,\n",
    "    channel_priorities=[\"HH[ZNE]\", \"BH[ZNE]\"],\n",
    ")\n",
    "\n",
    "# Downloader instance\n",
    "downloader = mass_downloader.MassDownloader(providers=[\"IRIS\"])"
   ]
  },
  {
   "cell_type": "markdown",
   "metadata": {},
   "source": [
    "## Download\n",
    "\n",
    "Download the data. This can take several minutes depending on the internet connection and the machine."
   ]
  },
  {
   "cell_type": "code",
   "execution_count": null,
   "metadata": {},
   "outputs": [],
   "source": [
    "downloader.download(\n",
    "    domain,\n",
    "    restrictions,\n",
    "    mseed_storage=DIRPATH_DESTINATION,\n",
    "    stationxml_storage=DIRPATH_DESTINATION,\n",
    ")"
   ]
  }
 ],
 "metadata": {
  "kernelspec": {
   "display_name": "beampower",
   "language": "python",
   "name": "beampower"
  },
  "language_info": {
   "codemirror_mode": {
    "name": "ipython",
    "version": 3
   },
   "file_extension": ".py",
   "mimetype": "text/x-python",
   "name": "python",
   "nbconvert_exporter": "python",
   "pygments_lexer": "ipython3",
   "version": "3.10.4"
  },
  "orig_nbformat": 4,
  "vscode": {
   "interpreter": {
    "hash": "fbc53244eb12862f830360731181f74bf1926a1d599306ba27738bd1e53a995a"
   }
  }
 },
 "nbformat": 4,
 "nbformat_minor": 2
}
