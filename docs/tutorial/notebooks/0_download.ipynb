{
 "cells": [
  {
   "cell_type": "markdown",
   "metadata": {},
   "source": [
    "# 0. Download seismograms\n",
    "\n",
    "This tutorial uses a small dataset for earthquake detection and location from continuous data. The dataset consists of one day of data from eight broadband seismic stations with three components in the North Anatolian Fault Zone. \n",
    "\n",
    "In the present notebook, we download the continuous dataset and save it for later use. We process the recordings from 2013-04-23 when a magnitude 3.3 earthquake nucleated in the middle of the seismic array at 7 km depth. You can find information about this earthquake on the [international seismological center event page](http://www.isc.ac.uk/cgi-bin/web-db-run?request=COMPREHENSIVE&out_format=CATCSV&searchshape=RECT&bot_lat=40.60&top_lat=40.76&left_lon=30.20&right_lon=30.45&ctr_lat=&ctr_lon=&radius=&max_dist_units=deg&srn=&grn=&start_year=2012&start_month=1&start_day=23&start_time=00%3A00%3A00&end_year=2013&end_month=7&end_day=01&end_time=00%3A00%3A00&min_dep=&max_dep=&min_mag=3&max_mag=&req_mag_type=Any&req_mag_agcy=&include_links=on).\n",
    "\n",
    "\n",
    "\n",
    "> **Note:** this notebook uses `mass_downloader` of `obspy` to find and download the data from the IRIS data center. The download duration can vary depending on your location, do not hesitate to consider another dataset that would suit you better. \n",
    "A more extensive tutorial about the mass downloader is available in the [obspy documentation](https://docs.obspy.org/packages/autogen/obspy.clients.fdsn.mass_downloader.html).\n",
    "\n",
    "#### Dataset information\n",
    "\n",
    "| Dataset info | Value |\n",
    "|-|-|\n",
    "| Location | North Anatolian Fault Zone |\n",
    "| Number of stations | 8 |\n",
    "| Number of files | 24 |\n",
    "| File size (HH) | 17 MB |\n",
    "| File size (BH) | 8 MB |\n",
    "| Download duration | 1 minute (fastest) to 10 minutes (slowest) |\n",
    "| Overall disk usage | 236.5 MB |\n",
    "\n",
    "#### Contents of this notebook\n",
    "* [Destination path](#download-destination-path)\n",
    "\n",
    "* [Download preparation](#prepare-the-downloader)\n",
    "* [Download](#download)\n",
    "* [Show inventory on a map](#show-inventory)"
   ]
  },
  {
   "cell_type": "code",
   "execution_count": 3,
   "metadata": {},
   "outputs": [],
   "source": [
    "import cartopy\n",
    "import os\n",
    "\n",
    "from matplotlib import pyplot as plt\n",
    "from obspy import UTCDateTime, read_inventory\n",
    "from obspy.clients.fdsn import mass_downloader"
   ]
  },
  {
   "cell_type": "markdown",
   "metadata": {},
   "source": [
    "## Download destination path\n",
    "\n",
    "By default, the package comes with a `data/` folder which can be used to store the downloaded waveforms. Please, do not include the downloaded data if you contribute to `beampower` on Github. The `.mseed` extension is included in the `.gitignore` file; if you download any other data format, please update `.gitignore` accordingly. Feel free to change it to any convenient path of your choice. "
   ]
  },
  {
   "cell_type": "code",
   "execution_count": 4,
   "metadata": {},
   "outputs": [],
   "source": [
    "DIRPATH_DESTINATION = \"../data/raw/\""
   ]
  },
  {
   "cell_type": "markdown",
   "metadata": {},
   "source": [
    "If we remove the `data/` repository in future package releases, this next cell will ensure we can still save the data."
   ]
  },
  {
   "cell_type": "code",
   "execution_count": 5,
   "metadata": {},
   "outputs": [],
   "source": [
    "os.makedirs(DIRPATH_DESTINATION, exist_ok=True)"
   ]
  },
  {
   "cell_type": "markdown",
   "metadata": {},
   "source": [
    "## Prepare the data downloader\n",
    "\n",
    "Here, we define the geographical domain and other restrictions such as data quality and temporal coverage for the data download. \n",
    "\n",
    "### Geographical domain\n",
    "We restrict the data download to the North Anatolian domain using the `RectangularDomain` function."
   ]
  },
  {
   "cell_type": "code",
   "execution_count": 6,
   "metadata": {},
   "outputs": [],
   "source": [
    "domain = mass_downloader.RectangularDomain(\n",
    "    minlatitude=40.60,\n",
    "    maxlatitude=40.76,\n",
    "    minlongitude=30.20,\n",
    "    maxlongitude=30.44,\n",
    ")"
   ]
  },
  {
   "cell_type": "markdown",
   "metadata": {},
   "source": [
    "### Temporal domain and quality restrictions\n",
    "\n",
    "We restrict the data download to the eight seismic stations on `HH` or `BH` channels with continuous data on 2013-04-23 using the `Restrictions` function."
   ]
  },
  {
   "cell_type": "code",
   "execution_count": 7,
   "metadata": {},
   "outputs": [],
   "source": [
    "restrictions = mass_downloader.Restrictions(\n",
    "    starttime=UTCDateTime(\"2013-04-23\"),\n",
    "    endtime=UTCDateTime(\"2013-04-24\"),\n",
    "    chunklength_in_sec=86400.0,\n",
    "    network=\"YH\",\n",
    "    location=\"*\",\n",
    "    channel=\"BH*,HH*\",\n",
    "    station=\"SAUV,SPNC,DC08,DC07,DC06,DD06,DE07,DE08\",\n",
    "    reject_channels_with_gaps=False,\n",
    "    minimum_length=0.0,\n",
    "    minimum_interstation_distance_in_m=100.0,\n",
    "    channel_priorities=[\"HH[ZNE]\", \"BH[ZNE]\"],\n",
    ")"
   ]
  },
  {
   "cell_type": "markdown",
   "metadata": {},
   "source": [
    "## Download the data\n",
    "\n",
    "The download can take up to several minutes depending on your internet connection and machine. You may need to run the following cell several times to make sure all data were correctly downloaded; data requests to data centers may fail due to intermittent problems on their servers."
   ]
  },
  {
   "cell_type": "code",
   "execution_count": 10,
   "metadata": {},
   "outputs": [
    {
     "name": "stderr",
     "output_type": "stream",
     "text": [
      "[2022-08-10 13:19:29,745] - obspy.clients.fdsn.mass_downloader - INFO: Initializing FDSN client(s) for IRIS.\n",
      "[2022-08-10 13:19:29,745] - obspy.clients.fdsn.mass_downloader - INFO: Initializing FDSN client(s) for IRIS.\n",
      "[2022-08-10 13:19:29,754] - obspy.clients.fdsn.mass_downloader - INFO: Successfully initialized 1 client(s): IRIS.\n",
      "[2022-08-10 13:19:29,754] - obspy.clients.fdsn.mass_downloader - INFO: Successfully initialized 1 client(s): IRIS.\n",
      "[2022-08-10 13:19:29,758] - obspy.clients.fdsn.mass_downloader - INFO: Total acquired or preexisting stations: 0\n",
      "[2022-08-10 13:19:29,758] - obspy.clients.fdsn.mass_downloader - INFO: Total acquired or preexisting stations: 0\n",
      "[2022-08-10 13:19:29,760] - obspy.clients.fdsn.mass_downloader - INFO: Client 'IRIS' - Requesting reliable availability.\n",
      "[2022-08-10 13:19:29,760] - obspy.clients.fdsn.mass_downloader - INFO: Client 'IRIS' - Requesting reliable availability.\n",
      "[2022-08-10 13:19:35,064] - obspy.clients.fdsn.mass_downloader - INFO: Client 'IRIS' - Successfully requested availability (5.30 seconds)\n",
      "[2022-08-10 13:19:35,064] - obspy.clients.fdsn.mass_downloader - INFO: Client 'IRIS' - Successfully requested availability (5.30 seconds)\n",
      "[2022-08-10 13:19:35,071] - obspy.clients.fdsn.mass_downloader - INFO: Client 'IRIS' - Found 8 stations (24 channels).\n",
      "[2022-08-10 13:19:35,071] - obspy.clients.fdsn.mass_downloader - INFO: Client 'IRIS' - Found 8 stations (24 channels).\n",
      "[2022-08-10 13:19:35,079] - obspy.clients.fdsn.mass_downloader - INFO: Client 'IRIS' - Will attempt to download data from 8 stations.\n",
      "[2022-08-10 13:19:35,079] - obspy.clients.fdsn.mass_downloader - INFO: Client 'IRIS' - Will attempt to download data from 8 stations.\n",
      "[2022-08-10 13:19:35,082] - obspy.clients.fdsn.mass_downloader - INFO: Client 'IRIS' - Status for 24 time intervals/channels before downloading: EXISTS\n",
      "[2022-08-10 13:19:35,082] - obspy.clients.fdsn.mass_downloader - INFO: Client 'IRIS' - Status for 24 time intervals/channels before downloading: EXISTS\n",
      "[2022-08-10 13:19:35,164] - obspy.clients.fdsn.mass_downloader - INFO: Client 'IRIS' - No station information to download.\n",
      "[2022-08-10 13:19:35,164] - obspy.clients.fdsn.mass_downloader - INFO: Client 'IRIS' - No station information to download.\n",
      "[2022-08-10 13:19:35,168] - obspy.clients.fdsn.mass_downloader - INFO: ============================== Final report\n",
      "[2022-08-10 13:19:35,168] - obspy.clients.fdsn.mass_downloader - INFO: ============================== Final report\n",
      "[2022-08-10 13:19:35,175] - obspy.clients.fdsn.mass_downloader - INFO: 24 MiniSEED files [234.5 MB] already existed.\n",
      "[2022-08-10 13:19:35,175] - obspy.clients.fdsn.mass_downloader - INFO: 24 MiniSEED files [234.5 MB] already existed.\n",
      "[2022-08-10 13:19:35,186] - obspy.clients.fdsn.mass_downloader - INFO: 8 StationXML files [2.0 MB] already existed.\n",
      "[2022-08-10 13:19:35,186] - obspy.clients.fdsn.mass_downloader - INFO: 8 StationXML files [2.0 MB] already existed.\n",
      "[2022-08-10 13:19:35,189] - obspy.clients.fdsn.mass_downloader - INFO: Client 'IRIS' - Acquired 0 MiniSEED files [0.0 MB].\n",
      "[2022-08-10 13:19:35,189] - obspy.clients.fdsn.mass_downloader - INFO: Client 'IRIS' - Acquired 0 MiniSEED files [0.0 MB].\n",
      "[2022-08-10 13:19:35,194] - obspy.clients.fdsn.mass_downloader - INFO: Client 'IRIS' - Acquired 0 StationXML files [0.0 MB].\n",
      "[2022-08-10 13:19:35,194] - obspy.clients.fdsn.mass_downloader - INFO: Client 'IRIS' - Acquired 0 StationXML files [0.0 MB].\n",
      "[2022-08-10 13:19:35,197] - obspy.clients.fdsn.mass_downloader - INFO: Downloaded 0.0 MB in total.\n",
      "[2022-08-10 13:19:35,197] - obspy.clients.fdsn.mass_downloader - INFO: Downloaded 0.0 MB in total.\n"
     ]
    },
    {
     "data": {
      "text/plain": [
       "{'IRIS': <obspy.clients.fdsn.mass_downloader.download_helpers.ClientDownloadHelper at 0x7fc8bba202e0>}"
      ]
     },
     "execution_count": 10,
     "metadata": {},
     "output_type": "execute_result"
    }
   ],
   "source": [
    "# Downloader instance\n",
    "downloader = mass_downloader.MassDownloader(providers=[\"IRIS\"])\n",
    "\n",
    "# Download\n",
    "downloader.download(\n",
    "    domain,\n",
    "    restrictions,\n",
    "    mseed_storage=DIRPATH_DESTINATION,\n",
    "    stationxml_storage=DIRPATH_DESTINATION,\n",
    ")"
   ]
  },
  {
   "cell_type": "markdown",
   "metadata": {},
   "source": [
    "## Show inventory\n",
    "\n",
    "The following shows the locations of the seismic stations that recorded the previously requested data. The inventory contains all metadata related to a given `seed_id`. Please check [this obspy tutorial](https://docs.obspy.org/master/packages/autogen/obspy.core.inventory.inventory.Inventory.plot.html) for more information."
   ]
  },
  {
   "cell_type": "code",
   "execution_count": 9,
   "metadata": {},
   "outputs": [
    {
     "name": "stderr",
     "output_type": "stream",
     "text": [
      "/home/eric/miniconda3/envs/py310/lib/python3.10/site-packages/cartopy/io/__init__.py:241: DownloadWarning: Downloading: https://naturalearth.s3.amazonaws.com/10m_physical/ne_10m_coastline.zip\n",
      "  warnings.warn(f'Downloading: {url}', DownloadWarning)\n"
     ]
    },
    {
     "data": {
      "image/png": "[encoded data removed]",
      "text/plain": [
       "<Figure size 432x288 with 1 Axes>"
      ]
     },
     "metadata": {
      "needs_background": "light"
     },
     "output_type": "display_data"
    }
   ],
   "source": [
    "MAP_EXTENT = (\n",
    "    domain.minlongitude,\n",
    "    domain.maxlongitude,\n",
    "    domain.minlatitude,\n",
    "    domain.maxlatitude,\n",
    ")\n",
    "\n",
    "# Read inventory\n",
    "inventory = read_inventory(os.path.join(DIRPATH_DESTINATION, \"*.xml\"))\n",
    "\n",
    "# Create axes\n",
    "ax = plt.axes(projection=cartopy.crs.PlateCarree())\n",
    "ax.set_extent(MAP_EXTENT)\n",
    "ax.gridlines(draw_labels=True)\n",
    "ax.coastlines()\n",
    "\n",
    "# Show\n",
    "for network in inventory:\n",
    "    for station in network:\n",
    "        ax.plot(station.longitude, station.latitude, \"kv\")\n",
    "        ax.text(station.longitude, station.latitude, \"  \" + station.code)\n"
   ]
  }
 ],
 "metadata": {
  "kernelspec": {
   "display_name": "Python 3.10.5 ('py310')",
   "language": "python",
   "name": "python3"
  },
  "language_info": {
   "codemirror_mode": {
    "name": "ipython",
    "version": 3
   },
   "file_extension": ".py",
   "mimetype": "text/x-python",
   "name": "python",
   "nbconvert_exporter": "python",
   "pygments_lexer": "ipython3",
   "version": "3.10.5"
  },
  "vscode": {
   "interpreter": {
    "hash": "312801dd0aa5461639464a6df6a6c417c90a144a1d808d7cfd3dc2851df10201"
   }
  }
 },
 "nbformat": 4,
 "nbformat_minor": 2
}
