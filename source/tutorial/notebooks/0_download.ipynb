{
   "cells": [
      {
         "cell_type": "markdown",
         "metadata": {},
         "source": [
            "# 0. Download seismograms\n",
            "\n",
            "This tutorial illustrates how to use `beampower` to detect and locate earthquakes with the backprojection technique. For the sake of simplicity and because the focus is on explaining how to use the code rather than providing detailed guidance into earthquake detection, this tutorial implements very rudimentary methodology. See the discussion at the of [notebook #3](3_beampower.ipynb) to further build upon the tutorial.\n",
            "\n",
            "The example dataset consists of one day of data from eight broadband, 3-component seismic stations in the North Anatolian Fault Zone.\n",
            "\n",
            "In the present notebook, we download the continuous dataset and save it for later use. We process the recordings from 2012-07-26 when several small magnitude earthquakes occurred underneath the station array used here.\n",
            "\n",
            "\n",
            "> **Note:** this notebook uses `mass_downloader` of `obspy` to find and download the data from the IRIS data center. The download duration can vary depending on your location, do not hesitate to consider another dataset that would suit you better. \n",
            "A more extensive tutorial about the mass downloader is available in the [obspy documentation](https://docs.obspy.org/packages/autogen/obspy.clients.fdsn.mass_downloader.html).\n",
            "\n",
            "#### Dataset information\n",
            "\n",
            "| Dataset info | Value |\n",
            "|-|-|\n",
            "| Location | North Anatolian Fault Zone |\n",
            "| Number of stations | 8 |\n",
            "| Number of files | 24 |\n",
            "| File size (HH) | 17 MB |\n",
            "| File size (BH) | 8 MB |\n",
            "| Download duration | 1 minute (fastest) to 10 minutes (slowest) |\n",
            "| Overall disk usage | 236.5 MB |\n",
            "\n",
            "#### Contents of this notebook\n",
            "* [Destination path](#download-destination-path)\n",
            "\n",
            "* [Download preparation](#prepare-the-downloader)\n",
            "* [Download](#download)\n",
            "* [Show inventory on a map](#show-inventory)"
         ]
      },
      {
         "cell_type": "code",
         "execution_count": 1,
         "metadata": {},
         "outputs": [],
         "source": [
            "import cartopy\n",
            "import os\n",
            "\n",
            "from matplotlib import pyplot as plt\n",
            "from obspy import UTCDateTime, read_inventory\n",
            "from obspy.clients.fdsn import mass_downloader"
         ]
      },
      {
         "cell_type": "markdown",
         "metadata": {},
         "source": [
            "## Download destination path\n",
            "\n",
            "By default, the package comes with a `data/` folder which can be used to store the downloaded waveforms. Please, do not include the downloaded data if you contribute to `beampower` on Github. The `.mseed` extension is included in the `.gitignore` file; if you download any other data format, please update `.gitignore` accordingly. Feel free to change it to any convenient path of your choice. "
         ]
      },
      {
         "cell_type": "code",
         "execution_count": 2,
         "metadata": {},
         "outputs": [],
         "source": [
            "DIRPATH_DESTINATION = \"../data/raw/\""
         ]
      },
      {
         "cell_type": "markdown",
         "metadata": {},
         "source": [
            "If we remove the `data/` repository in future package releases, this next cell will ensure we can still save the data."
         ]
      },
      {
         "cell_type": "code",
         "execution_count": 3,
         "metadata": {},
         "outputs": [],
         "source": [
            "os.makedirs(DIRPATH_DESTINATION, exist_ok=True)"
         ]
      },
      {
         "cell_type": "markdown",
         "metadata": {},
         "source": [
            "## Prepare the data downloader\n",
            "\n",
            "Here, we define the geographical domain and other restrictions such as data quality and temporal coverage for the data download. \n",
            "\n",
            "### Geographical domain\n",
            "We restrict the data download to the North Anatolian domain using the `RectangularDomain` function."
         ]
      },
      {
         "cell_type": "code",
         "execution_count": 4,
         "metadata": {},
         "outputs": [],
         "source": [
            "domain = mass_downloader.RectangularDomain(\n",
            "    minlatitude=40.60,\n",
            "    maxlatitude=40.76,\n",
            "    minlongitude=30.20,\n",
            "    maxlongitude=30.44,\n",
            ")"
         ]
      },
      {
         "cell_type": "markdown",
         "metadata": {},
         "source": [
            "### Temporal domain and quality restrictions\n",
            "\n",
            "We restrict the data download to the eight seismic stations on `HH` or `BH` channels with continuous data on 2013-04-23 using the `Restrictions` function."
         ]
      },
      {
         "cell_type": "code",
         "execution_count": 5,
         "metadata": {},
         "outputs": [],
         "source": [
            "restrictions = mass_downloader.Restrictions(\n",
            "    starttime=UTCDateTime(\"2012-07-26\"),\n",
            "    endtime=UTCDateTime(\"2012-07-27\"),\n",
            "    chunklength_in_sec=86400.0,\n",
            "    network=\"YH\",\n",
            "    location=\"*\",\n",
            "    channel=\"BH*,HH*\",\n",
            "    station=\"SAUV,SPNC,DC08,DC07,DC06,DD06,DE07,DE08\",\n",
            "    reject_channels_with_gaps=False,\n",
            "    minimum_length=0.0,\n",
            "    minimum_interstation_distance_in_m=100.0,\n",
            "    channel_priorities=[\"HH[ZNE]\", \"BH[ZNE]\"],\n",
            ")"
         ]
      },
      {
         "cell_type": "markdown",
         "metadata": {},
         "source": [
            "## Download the data\n",
            "\n",
            "The download can take up to several minutes depending on your internet connection and machine. You may need to run the following cell several times to make sure all data were correctly downloaded; data requests to data centers may fail due to intermittent problems on their servers."
         ]
      },
      {
         "cell_type": "code",
         "execution_count": 6,
         "metadata": {},
         "outputs": [
            {
               "name": "stderr",
               "output_type": "stream",
               "text": [
                  "[2024-02-20 14:46:15,675] - obspy.clients.fdsn.mass_downloader - INFO: Initializing FDSN client(s) for IRIS.\n",
                  "[2024-02-20 14:46:16,276] - obspy.clients.fdsn.mass_downloader - INFO: Successfully initialized 1 client(s): IRIS.\n",
                  "[2024-02-20 14:46:16,279] - obspy.clients.fdsn.mass_downloader - INFO: Total acquired or preexisting stations: 0\n",
                  "[2024-02-20 14:46:16,280] - obspy.clients.fdsn.mass_downloader - INFO: Client 'IRIS' - Requesting reliable availability.\n",
                  "[2024-02-20 14:46:16,499] - obspy.clients.fdsn.mass_downloader - INFO: Client 'IRIS' - Successfully requested availability (0.22 seconds)\n",
                  "[2024-02-20 14:46:16,502] - obspy.clients.fdsn.mass_downloader - INFO: Client 'IRIS' - Found 8 stations (24 channels).\n",
                  "[2024-02-20 14:46:16,505] - obspy.clients.fdsn.mass_downloader - INFO: Client 'IRIS' - Will attempt to download data from 8 stations.\n",
                  "[2024-02-20 14:46:16,513] - obspy.clients.fdsn.mass_downloader - INFO: Client 'IRIS' - Status for 24 time intervals/channels before downloading: NEEDS_DOWNLOADING\n",
                  "[2024-02-20 14:46:25,051] - obspy.clients.fdsn.mass_downloader - INFO: Client 'IRIS' - Successfully downloaded 3 channels (of 3)\n",
                  "[2024-02-20 14:46:28,297] - obspy.clients.fdsn.mass_downloader - INFO: Client 'IRIS' - Successfully downloaded 3 channels (of 3)\n",
                  "[2024-02-20 14:46:32,791] - obspy.clients.fdsn.mass_downloader - INFO: Client 'IRIS' - Successfully downloaded 3 channels (of 3)\n",
                  "[2024-02-20 14:46:36,391] - obspy.clients.fdsn.mass_downloader - INFO: Client 'IRIS' - Successfully downloaded 3 channels (of 3)\n",
                  "[2024-02-20 14:46:40,275] - obspy.clients.fdsn.mass_downloader - INFO: Client 'IRIS' - Successfully downloaded 3 channels (of 3)\n",
                  "[2024-02-20 14:46:45,163] - obspy.clients.fdsn.mass_downloader - INFO: Client 'IRIS' - Successfully downloaded 3 channels (of 3)\n",
                  "[2024-02-20 14:47:47,617] - obspy.clients.fdsn.mass_downloader - INFO: Client 'IRIS' - Successfully downloaded 1 channels (of 1)\n",
                  "[2024-02-20 14:47:53,453] - obspy.clients.fdsn.mass_downloader - INFO: Client 'IRIS' - Successfully downloaded 1 channels (of 1)\n",
                  "[2024-02-20 14:47:57,953] - obspy.clients.fdsn.mass_downloader - INFO: Client 'IRIS' - Successfully downloaded 1 channels (of 1)\n",
                  "[2024-02-20 14:49:45,907] - obspy.clients.fdsn.mass_downloader - INFO: Client 'IRIS' - Successfully downloaded 3 channels (of 3)\n",
                  "[2024-02-20 14:49:45,911] - obspy.clients.fdsn.mass_downloader - INFO: Client 'IRIS' - Launching basic QC checks...\n",
                  "[2024-02-20 14:49:46,119] - obspy.clients.fdsn.mass_downloader - INFO: Client 'IRIS' - Downloaded 226.7 MB [1108.71 KB/sec] of data, 0.0 MB of which were discarded afterwards.\n",
                  "[2024-02-20 14:49:46,120] - obspy.clients.fdsn.mass_downloader - INFO: Client 'IRIS' - Status for 24 time intervals/channels after downloading: DOWNLOADED\n",
                  "[2024-02-20 14:49:46,371] - obspy.clients.fdsn.mass_downloader - INFO: Client 'IRIS' - Successfully downloaded '../data/raw/YH.DC06.xml'.\n",
                  "[2024-02-20 14:49:46,374] - obspy.clients.fdsn.mass_downloader - INFO: Client 'IRIS' - Successfully downloaded '../data/raw/YH.DC07.xml'.\n",
                  "[2024-02-20 14:49:46,382] - obspy.clients.fdsn.mass_downloader - INFO: Client 'IRIS' - Successfully downloaded '../data/raw/YH.DC08.xml'.\n",
                  "[2024-02-20 14:49:46,613] - obspy.clients.fdsn.mass_downloader - INFO: Client 'IRIS' - Successfully downloaded '../data/raw/YH.DE07.xml'.\n",
                  "[2024-02-20 14:49:46,616] - obspy.clients.fdsn.mass_downloader - INFO: Client 'IRIS' - Successfully downloaded '../data/raw/YH.DD06.xml'.\n",
                  "[2024-02-20 14:49:46,621] - obspy.clients.fdsn.mass_downloader - INFO: Client 'IRIS' - Successfully downloaded '../data/raw/YH.DE08.xml'.\n",
                  "[2024-02-20 14:49:46,854] - obspy.clients.fdsn.mass_downloader - INFO: Client 'IRIS' - Successfully downloaded '../data/raw/YH.SPNC.xml'.\n",
                  "[2024-02-20 14:49:46,918] - obspy.clients.fdsn.mass_downloader - INFO: Client 'IRIS' - Successfully downloaded '../data/raw/YH.SAUV.xml'.\n",
                  "[2024-02-20 14:49:46,968] - obspy.clients.fdsn.mass_downloader - INFO: Client 'IRIS' - Downloaded 8 station files [2.0 MB] in 0.8 seconds [2594.82 KB/sec].\n",
                  "[2024-02-20 14:49:46,970] - obspy.clients.fdsn.mass_downloader - INFO: ============================== Final report\n",
                  "[2024-02-20 14:49:46,971] - obspy.clients.fdsn.mass_downloader - INFO: 0 MiniSEED files [0.0 MB] already existed.\n",
                  "[2024-02-20 14:49:46,971] - obspy.clients.fdsn.mass_downloader - INFO: 0 StationXML files [0.0 MB] already existed.\n",
                  "[2024-02-20 14:49:46,973] - obspy.clients.fdsn.mass_downloader - INFO: Client 'IRIS' - Acquired 24 MiniSEED files [226.7 MB].\n",
                  "[2024-02-20 14:49:46,974] - obspy.clients.fdsn.mass_downloader - INFO: Client 'IRIS' - Acquired 8 StationXML files [2.0 MB].\n",
                  "[2024-02-20 14:49:46,975] - obspy.clients.fdsn.mass_downloader - INFO: Downloaded 228.7 MB in total.\n"
               ]
            },
            {
               "data": {
                  "text/plain": [
                     "{'IRIS': <obspy.clients.fdsn.mass_downloader.download_helpers.ClientDownloadHelper at 0x7f266ebc9f60>}"
                  ]
               },
               "execution_count": 6,
               "metadata": {},
               "output_type": "execute_result"
            }
         ],
         "source": [
            "# Downloader instance\n",
            "downloader = mass_downloader.MassDownloader(providers=[\"IRIS\"])\n",
            "\n",
            "# Download\n",
            "downloader.download(\n",
            "    domain,\n",
            "    restrictions,\n",
            "    mseed_storage=DIRPATH_DESTINATION,\n",
            "    stationxml_storage=DIRPATH_DESTINATION,\n",
            ")"
         ]
      },
      {
         "cell_type": "markdown",
         "metadata": {},
         "source": [
            "## Show inventory\n",
            "\n",
            "The following shows the locations of the seismic stations that recorded the previously requested data. The inventory contains all metadata related to a given `seed_id`. Please check [this obspy tutorial](https://docs.obspy.org/master/packages/autogen/obspy.core.inventory.inventory.Inventory.plot.html) for more information."
         ]
      },
      {
         "cell_type": "code",
         "execution_count": 7,
         "metadata": {},
         "outputs": [
            {
               "name": "stderr",
               "output_type": "stream",
               "text": [
                  "/home/ebeauce/miniconda3/envs/hy7_py310/lib/python3.10/site-packages/cartopy/io/__init__.py:241: DownloadWarning: Downloading: https://naturalearth.s3.amazonaws.com/10m_physical/ne_10m_coastline.zip\n",
                  "  warnings.warn(f'Downloading: {url}', DownloadWarning)\n"
               ]
            },
            {
               "data": {
                  "image/png": "[encoded data removed]",
                  "text/plain": [
                     "<Figure size 640x480 with 1 Axes>"
                  ]
               },
               "metadata": {},
               "output_type": "display_data"
            }
         ],
         "source": [
            "MAP_EXTENT = (\n",
            "    domain.minlongitude,\n",
            "    domain.maxlongitude,\n",
            "    domain.minlatitude,\n",
            "    domain.maxlatitude,\n",
            ")\n",
            "\n",
            "# Read inventory\n",
            "inventory = read_inventory(os.path.join(DIRPATH_DESTINATION, \"*.xml\"))\n",
            "\n",
            "# Create axes\n",
            "ax = plt.axes(projection=cartopy.crs.PlateCarree())\n",
            "ax.set_extent(MAP_EXTENT)\n",
            "ax.gridlines(draw_labels=True)\n",
            "ax.coastlines()\n",
            "\n",
            "# Show\n",
            "for network in inventory:\n",
            "    for station in network:\n",
            "        ax.plot(station.longitude, station.latitude, \"kv\")\n",
            "        ax.text(station.longitude, station.latitude, \"  \" + station.code)\n"
         ]
      }
   ],
   "metadata": {
      "kernelspec": {
         "display_name": "Python 3.10.5 ('py310')",
         "language": "python",
         "name": "python3"
      },
      "language_info": {
         "codemirror_mode": {
            "name": "ipython",
            "version": 3
         },
         "file_extension": ".py",
         "mimetype": "text/x-python",
         "name": "python",
         "nbconvert_exporter": "python",
         "pygments_lexer": "ipython3",
         "version": "3.1.0"
      },
      "orig_nbformat": 4,
      "vscode": {
         "interpreter": {
            "hash": "312801dd0aa5461639464a6df6a6c417c90a144a1d808d7cfd3dc2851df10201"
         }
      }
   },
   "nbformat": 4,
   "nbformat_minor": 2
}
